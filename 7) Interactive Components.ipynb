{
 "cells": [
  {
   "attachments": {},
   "cell_type": "markdown",
   "metadata": {},
   "source": [
    "# <center>Interactive Components</center>"
   ]
  },
  {
   "attachments": {},
   "cell_type": "markdown",
   "metadata": {},
   "source": [
    "## [Carousel](https://go.raybo.org/4AJM)"
   ]
  },
  {
   "attachments": {},
   "cell_type": "markdown",
   "metadata": {},
   "source": [
    "One of the most popular components in Bootstrap is the Carousel, which allows you to display much content in a concise area."
   ]
  },
  {
   "attachments": {},
   "cell_type": "markdown",
   "metadata": {},
   "source": [
    "1. Carousel\n",
    "2. Button Controls\n",
    "3. Indicator Controls\n",
    "4. Carousel Options\n",
    "5. Carousel Interactivity"
   ]
  },
  {
   "attachments": {},
   "cell_type": "markdown",
   "metadata": {},
   "source": [
    "#### **_1. Carousel_**"
   ]
  },
  {
   "attachments": {},
   "cell_type": "markdown",
   "metadata": {},
   "source": [
    "- `carousel`\n",
    "\t- `data-bs-ride slide carousel-fade` <br><br>\n",
    "- `carousel-inner`\n",
    "\t- `carousel-item`\n",
    "    - `class=\"d-block w-100\" active`"
   ]
  },
  {
   "attachments": {},
   "cell_type": "markdown",
   "metadata": {},
   "source": [
    "The basic carousel has three parts to it.\n",
    "\n",
    "A main container with a class of `carousel` which should have a unique ID assigned. To get the carousel to work, you have to add a `data-bs-ride` of carousel property. The images will change evert five seconds by default.\n",
    "\n",
    "There should be a section with the images called carousel-inner. Each image gets a carousel-item class. The image you want to show should have an active class. To make the images fit in their containers, you can add a `d-block` class and `w-100`."
   ]
  },
  {
   "attachments": {},
   "cell_type": "markdown",
   "metadata": {},
   "source": [
    "- [**Try it**](codepens/Carousel.html)"
   ]
  },
  {
   "attachments": {},
   "cell_type": "markdown",
   "metadata": {},
   "source": [
    "#### **_2. Button Controls_**"
   ]
  },
  {
   "attachments": {},
   "cell_type": "markdown",
   "metadata": {},
   "source": [
    "- `carousel-control-{TYP}`\n",
    "\n",
    "\t- **TYP**: `prev next`\n",
    "\t\n",
    "\t    - Tags: `data-bs-target=\"ID\" data-bs-slide=\"{prev|next}\"`\n",
    "        - Icon: `carousel-control-{prev|next}-icon`"
   ]
  },
  {
   "attachments": {},
   "cell_type": "markdown",
   "metadata": {},
   "source": [
    "It's pretty common to add buttons to your carousels so you can manually move between images. To do this, you add a couple of buttons with a class of `carousel-control` and then `prev` or `next`.\n",
    "\n",
    "You have to include a `data-bs-target` with the id of the carousel you're targeting. This finally, gets activated with a `data-bs-slide` of either `prev` or `next`.\n",
    "\n",
    "Inside these containers, you can include a reference to a pre-built icon with the proper class. Make sure you hide the icons from assistive devices with an `aria-hidden` property of `true`.\n",
    "\n",
    "Notice that the buttons are clickable on the entire left or right side of the carousel area. Honestly, most of the time you'll just be copying this code.\n",
    "\n",
    "Also, notice where these buttons go. They're at the same level as the `carousel-inner` class. It's easy to misplace these when pasting them from somewhere else."
   ]
  },
  {
   "attachments": {},
   "cell_type": "markdown",
   "metadata": {},
   "source": [
    "- [**Try it**](codepens/Carousel-Buttons.html)"
   ]
  },
  {
   "attachments": {},
   "cell_type": "markdown",
   "metadata": {},
   "source": [
    "#### **_3. Indicator Controls_**"
   ]
  },
  {
   "attachments": {},
   "cell_type": "markdown",
   "metadata": {},
   "source": [
    "- `carousel-indicators`\n",
    "\t\n",
    "    - Options: `data-bs-target=\"ID\" data-bs-slide-to=\"#\" aria-label=\"Label\"`\n",
    "\n",
    "    - Current: `class=\"active\" aria-current=\"true\"`"
   ]
  },
  {
   "attachments": {},
   "cell_type": "markdown",
   "metadata": {},
   "source": [
    "Although controls are usually coded at the top of carousels, they appear at the bottom and unlike the arrow buttons, they appear inside a container with a class of `carousel-indicators`.\n",
    "\n",
    "Inside, a series of buttons...one for each slide and a `data-bs-target` that points to the carousel's id and a `data-bs-slide-to` class that points to the ID of the current carousel.\n",
    "\n",
    "In JavaScript, arrays are zero indexed, so here you'd put `0` for the first slide, `1` for the second a so on. Each slide gets an `aria-label` with an identifier for the slide.\n",
    "\n",
    "In addition, whichever slide you make appear first, you add a class of `active`, then `aria-current` of true."
   ]
  },
  {
   "attachments": {},
   "cell_type": "markdown",
   "metadata": {},
   "source": [
    "- [**Try it**](codepens/Carousel-with-Indicators.html)"
   ]
  },
  {
   "attachments": {},
   "cell_type": "markdown",
   "metadata": {},
   "source": [
    "#### **_4. Carousel Options_**"
   ]
  },
  {
   "attachments": {},
   "cell_type": "markdown",
   "metadata": {},
   "source": [
    "- `carousel-caption`\n",
    "\n",
    "- `carousel-dark`"
   ]
  },
  {
   "attachments": {},
   "cell_type": "markdown",
   "metadata": {},
   "source": [
    "There's a couple of other options you can use when building carousels. You can add a caption to each image by using the `carousel-caption` container and then adding any type of text. The captions align to the bottom with some spare room.\n",
    "\n",
    "The other option is to show a dark version of carousel controls and captions instead of the usual white ones. Sometimes that will work better and sometimes not."
   ]
  },
  {
   "attachments": {},
   "cell_type": "markdown",
   "metadata": {},
   "source": [
    "- [**Try it**](codepens/Carousel-Options.html)"
   ]
  },
  {
   "attachments": {},
   "cell_type": "markdown",
   "metadata": {},
   "source": [
    "#### **_5. Carousel Interactivity_**"
   ]
  },
  {
   "attachments": {},
   "cell_type": "markdown",
   "metadata": {},
   "source": [
    "- `data-bs-{TYP}`\n",
    "\n",
    "    - `ride(bool|carousel) interval (ms|false) pause(hover)`\n",
    "\n",
    "    - `wrap keyboard touch`"
   ]
  },
  {
   "attachments": {},
   "cell_type": "markdown",
   "metadata": {},
   "source": [
    "You can control carousels through data attributes that start with data-bs and then an attribute type. Each of these has defaults.\n",
    "\n",
    "`data-bs-ride` - by setting this to true, carousels are set to animate will advance once the user changes the first item through arrows or indicators. If you set this value to false, they will stop playing, or if you set it to carousel, it will auto play the slideshow.\n",
    "\n",
    "`data-bs-interval` - How long to wait before changing to another slide. This is expressed in milliseconds and the default is 5000. You can add a delay to either the whole slideshow or to each individual slide.\n",
    "\n",
    "`data-bs-pause` - You can ask a carousel to stop cycling if you set this attribute to hover. That can be useful with large carousels that take up the entire viewport.\n",
    "\n",
    "`data-bs-wrap` - By default, a true value here will cause the carousels to cycle to the first slide once the last slide is reached. If you set this to off, it creates a hard stop at the beginning and end.\n",
    "\n",
    "`data-bs-keyboard` This is a boolean that lets you turn keyboard control off by setting it to false.\n",
    "\n",
    "`data-bs-touch` - This boolean can allow let you turn off touch events by setting it to false."
   ]
  },
  {
   "attachments": {},
   "cell_type": "markdown",
   "metadata": {},
   "source": [
    "- [**Try it**](codepens/Carousel-Interactivity.html)"
   ]
  },
  {
   "attachments": {},
   "cell_type": "markdown",
   "metadata": {},
   "source": [
    "## [Accordion](https://go.raybo.org/4AJL)"
   ]
  },
  {
   "attachments": {},
   "cell_type": "markdown",
   "metadata": {},
   "source": [
    "One way to condense a lot of data in a small space is through the use of accordions. It's probably one of the hardest components to get working because there are so many classes to add."
   ]
  },
  {
   "attachments": {},
   "cell_type": "markdown",
   "metadata": {},
   "source": [
    "1. Accordion Classes\n",
    "2. Accordion Flush"
   ]
  },
  {
   "attachments": {},
   "cell_type": "markdown",
   "metadata": {},
   "source": [
    "#### **_1. Accordion Classes_**"
   ]
  },
  {
   "attachments": {},
   "cell_type": "markdown",
   "metadata": {},
   "source": [
    "- `accordion`\n",
    "\n",
    "    - `accordion-item`\n",
    "\t\n",
    "        - `accordion-header (ID)`\n",
    "\t\t- `accordion-button` <br><br>\n",
    "\n",
    "\t- `accordion-body`\n",
    "\n",
    "        - `accordion-collapse (ID)`"
   ]
  },
  {
   "attachments": {},
   "cell_type": "markdown",
   "metadata": {},
   "source": [
    "Accordions have a main container class that needs an ID to identify it on the page\n",
    "\n",
    "Inside accordions, you add an `accordion-item` class for each item that you want to be a part of the accordion.\n",
    "\n",
    "Inside the items, you can include an `accordion-header` and an `accordion-collapse` container classes. Each of these should have an individual ID, so they can be targeted for opening or closing.\n",
    "\n",
    "Inside the `accordion-header`, you will create a button with a class of accordion button. It's job is to open or close one of the items.\n",
    "\n",
    "`data-bs-toggle=\"collapse\"` - To make sure the javascript knows what this button does.\n",
    "\n",
    "`data-bs-target=\"ID\"` - the target element you wan to show or hide. This is the one with the accordion-collapse class.\n",
    "\n",
    "`aria-expanded=\"true\"` - If the element is showing, add this.\n",
    "\n",
    "`aria-controls=\"ID\"` - For assistive devices, identify the id of the element that gets controlled."
   ]
  },
  {
   "attachments": {},
   "cell_type": "markdown",
   "metadata": {},
   "source": [
    "- [**Try it**](codepens/Accordions.html)"
   ]
  },
  {
   "attachments": {},
   "cell_type": "markdown",
   "metadata": {},
   "source": [
    "#### **_2. Accordion Flush_**"
   ]
  },
  {
   "attachments": {},
   "cell_type": "markdown",
   "metadata": {},
   "source": [
    "- `accordion-flush`"
   ]
  },
  {
   "attachments": {},
   "cell_type": "markdown",
   "metadata": {},
   "source": [
    "There is another option called `accordion-flush` that will get rid of some of the colors and borders...that might be better for inserting in something like a list group."
   ]
  },
  {
   "attachments": {},
   "cell_type": "markdown",
   "metadata": {},
   "source": [
    "- [**Try it**](codepens/Accordions-Flush.html)"
   ]
  },
  {
   "attachments": {},
   "cell_type": "markdown",
   "metadata": {},
   "source": [
    "## [Alerts](https://go.raybo.org/4AJP)"
   ]
  },
  {
   "attachments": {},
   "cell_type": "markdown",
   "metadata": {},
   "source": [
    "Alerts gives you some quick styles for an element designed to give the user messages."
   ]
  },
  {
   "attachments": {},
   "cell_type": "markdown",
   "metadata": {},
   "source": [
    "1. Alert Classes"
   ]
  },
  {
   "attachments": {},
   "cell_type": "markdown",
   "metadata": {},
   "source": [
    "#### **_1. Alert Classes_**"
   ]
  },
  {
   "attachments": {},
   "cell_type": "markdown",
   "metadata": {},
   "source": [
    "- `alert`\n",
    "\n",
    "    - `alert-{TYP}`\n",
    "\t\n",
    "        - **TYP**: `primary secondary success danger warning info light dark` <br><br>\n",
    "\n",
    "\t- Alert Options\n",
    "\t    - `alert-heading alert-link`\n",
    "        \n",
    "        -  `alert-dismissible fade show`\n",
    "        \n",
    "        - `btn-close`\n"
   ]
  },
  {
   "attachments": {},
   "cell_type": "markdown",
   "metadata": {},
   "source": [
    "Alerts have a main container class that can run with a contextual color class to determine the alert's color. Sort of odd that it doesn't just use the background classes, but this is because the colors of the text and other components will be able to match the container this way. They should also have the `role` of alert to convey meaning for assistive devices.\n",
    "\n",
    "There are a few extra classes you can use with alerts.\n",
    "\n",
    "`alert-heading` - Gives you a style for a heading within the alert that matches the alert's color.\n",
    "\n",
    "`alert-link` - A style for the link, matching the alert's color\n",
    "\n",
    "`alert-dismissible fade show` - You can specify that users will be able to close the alerts and add some animation to do so. When the user closes the alert, they will no longer exist on the page.\n",
    "\n",
    "`btn-close` - If you make an alert dismissible, you can add a close button so the user can close the alert"
   ]
  },
  {
   "attachments": {},
   "cell_type": "markdown",
   "metadata": {},
   "source": [
    "- [**Try it**](codepens/Alerts.html)"
   ]
  },
  {
   "attachments": {},
   "cell_type": "markdown",
   "metadata": {},
   "source": [
    "## [Toasts](https://go.raybo.org/4AJN)"
   ]
  },
  {
   "attachments": {},
   "cell_type": "markdown",
   "metadata": {},
   "source": [
    "Toasts are a type of alert messages that are a little more comprehensive than simple alerts. They are designed to look like push notifications with flexible positioning."
   ]
  },
  {
   "attachments": {},
   "cell_type": "markdown",
   "metadata": {},
   "source": [
    "1. Toast Classes\n",
    "2. Toast Options"
   ]
  },
  {
   "attachments": {},
   "cell_type": "markdown",
   "metadata": {},
   "source": [
    "#### **_1. Toast Classes_**"
   ]
  },
  {
   "attachments": {},
   "cell_type": "markdown",
   "metadata": {},
   "source": [
    "- `toast`\n",
    "\n",
    "    - `toast-container`\n",
    "    \n",
    "        - `toast-header toast-body`"
   ]
  },
  {
   "attachments": {},
   "cell_type": "markdown",
   "metadata": {},
   "source": [
    "There's two parts to a toast, the button that triggers the toast, which should have an id so that we can target it with JavaScript to make it clickable and display the actual toast.\n",
    "\n",
    "Toasts will position in line with where they're placed, so there's usually a container designed to position the toast where you want it. It can have a class of toast-container. This container can have more than one toast.\n",
    "\n",
    "Of course, then you need the container with the toast that you want the button to display. That should also have an ID so that the button can reference it. This should also get a few assistive classes `role=\"alert\", aria-live=\"assertive\", aria-atomic=\"true\"`.\n",
    "\n",
    "Inside,the toast-container, you can add an optional `toast-header` which can be colored with background and color classes.\n",
    "\n",
    "Then `toast-body` container with the content you want displayed as the text of the toast.\n",
    "\n",
    "Toast won't be activated by default. This is one instance where you'll need JavaScript to activate and also program the button you want to display the toast with."
   ]
  },
  {
   "cell_type": "code",
   "execution_count": null,
   "metadata": {
    "vscode": {
     "languageId": "javascript"
    }
   },
   "outputs": [],
   "source": [
    "document.querySelector(\"#basicToastBtn\").onclick = function() {\n",
    " new bootstrap.Toast(document.querySelector('#basicToast')).show();\n",
    "}"
   ]
  },
  {
   "attachments": {},
   "cell_type": "markdown",
   "metadata": {},
   "source": [
    "- [**Try it**](codepens/Basic-Toasts.html)"
   ]
  },
  {
   "attachments": {},
   "cell_type": "markdown",
   "metadata": {},
   "source": [
    "#### **_2. Toast Options_**"
   ]
  },
  {
   "attachments": {},
   "cell_type": "markdown",
   "metadata": {},
   "source": [
    "- Show or Hide\n",
    "    - `show hide`\n",
    "\n",
    "- Close\n",
    "    - `btn-close`\n",
    "- Data\n",
    "    - `data-bs-animation data-bs-autohide data-bs-delay`"
   ]
  },
  {
   "attachments": {},
   "cell_type": "markdown",
   "metadata": {},
   "source": [
    "Here's a few other options that you can add to the toast.\n",
    "\n",
    "There are two classes that you can add to the container with the class of toast. Show and hide will toggle the display of the toast so it can actually be showing when the page loads.\n",
    "\n",
    "Also, if you have multiple toasts, they will take up space, so sometimes the hide property can help a toast show up in the right place.\n",
    "\n",
    "There is an option to have a button that closes the toast, and that's highly recommended. Bootstrap provides a nice btn-close component, but any element that uses a `data-bs-dismiss=\"toast\"` attribute will work. That should also get an `aria-label=\"Close\"`\n",
    "\n",
    "There are a few data attributes you can use:\n",
    "\n",
    "`data-bs-animation` - controls wether the toasts use an animation sequence. It's pretty subtle, so honestly, I don't think you'll miss it.\n",
    "\n",
    "`data-bs-autohide` - The toasts are designed to hide automatically, so you can turn this off.\n",
    "\n",
    "`data-bs-delay` - You can also control the delay here, which is important when you add a lot of content to a toast."
   ]
  },
  {
   "attachments": {},
   "cell_type": "markdown",
   "metadata": {},
   "source": [
    "- [**Try it**](codepens/Toast-Options.html)"
   ]
  },
  {
   "attachments": {},
   "cell_type": "markdown",
   "metadata": {},
   "source": [
    "## [Modals](https://go.raybo.org/4AJU)"
   ]
  },
  {
   "attachments": {},
   "cell_type": "markdown",
   "metadata": {},
   "source": [
    "Another component for displaying interactive content on the page."
   ]
  },
  {
   "attachments": {},
   "cell_type": "markdown",
   "metadata": {},
   "source": [
    "1. Modal Classes\n",
    "2. Modal Options"
   ]
  },
  {
   "attachments": {},
   "cell_type": "markdown",
   "metadata": {},
   "source": [
    "#### **_1. Modal Classes_**"
   ]
  },
  {
   "attachments": {},
   "cell_type": "markdown",
   "metadata": {},
   "source": [
    "- `modal fade`\n",
    "\n",
    "    - `modal-dialog modal-content`\n",
    "    - `modal-header modal-body modal-footer`"
   ]
  },
  {
   "attachments": {},
   "cell_type": "markdown",
   "metadata": {},
   "source": [
    "There are two parts to a modal. The button that launches the modal and the modal itself. The button should have two data attributes.\n",
    "\n",
    "`data-bs-toggle=\"modal\"` - This identifies the button as driving a modal.\n",
    "\n",
    "`data-bs-target=\"ID\"` - This identifies the ID of the modal you want to show.\n",
    "\n",
    "The main container for the modal is simply modal. If you add a fade class, you get a little animation that plays when the modal is activated or deactivated.\n",
    "\n",
    "There are two other containers that will make the modal content look good.\n",
    "\n",
    "`modal-dialog` controls the size of the modal, more on that when we get to some of the options.\n",
    "\n",
    "`modal-content` container set up the spacing for the content inside the modal.\n",
    "\n",
    "Inside the `modal-content` container, you can have a header, body and footer sections.\n",
    "It's also common to have a close button. Bootstrap provides a nice `btn-close` class you can use to dismiss items. Use the `data-bs-dismiss=\"modal\" aria-label=\"Close\"` attributes."
   ]
  },
  {
   "attachments": {},
   "cell_type": "markdown",
   "metadata": {},
   "source": [
    "- [**Try it**](codepens/Basic-Modal.html)"
   ]
  },
  {
   "attachments": {},
   "cell_type": "markdown",
   "metadata": {},
   "source": [
    "#### **_2. Modal Options_**"
   ]
  },
  {
   "attachments": {},
   "cell_type": "markdown",
   "metadata": {},
   "source": [
    "- `modal-dialog{-TYP}`\n",
    "\n",
    "    - `centered scrollable`<br><br>\n",
    "- `modal{-SIZ}`\n",
    "    - **SIZ**: `sm`(300) `md`(500) `lg`(800) `xl`(1140)<br><br>\n",
    "- `modal-fullscreen{-SIZ}{-down}`\n",
    "    - **SIZ**: `sm`(576) `md`(768) `lg`(992) `xl`(1200) `xxl`(1400)<br><br>\n",
    "- `data-bs-{TYP}`\n",
    "    - `backdrop(bool|static) keyboard(bool) focus(bool)`"
   ]
  },
  {
   "attachments": {},
   "cell_type": "markdown",
   "metadata": {},
   "source": [
    "Here's some of the options you can use.\n",
    "\n",
    "In the modal-dialog container, you can use a modal-dialog-centered class if you want the modal to be automatically placed in the center. And if you have a lot of text, you can use the `modal-dialog-scrollable` to make the modal scrollable.\n",
    "\n",
    "Instead of a specific size for the modal, you can choose to use a full screen modal. There are some options here to control when that modal activates. You can choose the breakpoints at which the modal will STOP being full screen.\n",
    "\n",
    "There are some data classes you can add to the `modal` container to control certain aspects of the modal.\n",
    "\n",
    "`data-bs-backdrop` - Normally, when you click outside a modal, it will automatically close. You can change this by setting the data-bs-backdrop option to 'static'\n",
    "\n",
    "`data-bs-keyboard` - The modal will close when you press the escape key unless you turn it off.\n",
    "\n",
    "`data-bs-focus` - The modal will be focused unless you set this to false."
   ]
  },
  {
   "attachments": {},
   "cell_type": "markdown",
   "metadata": {},
   "source": [
    "- [**Try it**](codepens/Modal-Options.html)"
   ]
  },
  {
   "attachments": {},
   "cell_type": "markdown",
   "metadata": {},
   "source": [
    "## [Collapse](https://go.raybo.org/4AJO)"
   ]
  },
  {
   "attachments": {},
   "cell_type": "markdown",
   "metadata": {},
   "source": [
    "Collapses offer a quick way to show or hide content. Bootstrap takes care of this by changing the height of the elements to and from 0."
   ]
  },
  {
   "attachments": {},
   "cell_type": "markdown",
   "metadata": {},
   "source": [
    "1. Collapse Classes"
   ]
  },
  {
   "attachments": {},
   "cell_type": "markdown",
   "metadata": {},
   "source": [
    "#### **_1. Collapse Classes_**"
   ]
  },
  {
   "attachments": {},
   "cell_type": "markdown",
   "metadata": {},
   "source": [
    "- `collapse multi-collapse`\n",
    "\n",
    "    - `data-bs-toggle=\"collapse\"`\n",
    "    \n",
    "    - `href` or `data-bs-target`"
   ]
  },
  {
   "attachments": {},
   "cell_type": "markdown",
   "metadata": {},
   "source": [
    "The collapse is a simple component, and it's made of two parts. A button with some attributes that link to the collapse and the element with the class of collapse and an ID that the buttons target.\n",
    "\n",
    "Interestingly, you can use either an anchor tag and use a #partial link to open up the collapse.\n",
    "\n",
    "Or you can use a button with a data-bs-target with the ID of the collapse to open it up.\n",
    "In addition, you should use some assistive tags like `aria-expanded` (if the collapse is expanded and `ariaControls` that point to the ID of the collapse).\n",
    "\n",
    "You can target more than one collapse by passing along a class that will match more than one element instead of an ID. In that case, make sure you update the assistive tags properly."
   ]
  },
  {
   "attachments": {},
   "cell_type": "markdown",
   "metadata": {},
   "source": [
    "- [**Try it**](codepens/Collapse.html)"
   ]
  },
  {
   "attachments": {},
   "cell_type": "markdown",
   "metadata": {},
   "source": [
    "## [Dropdowns](https://go.raybo.org/4AJS)"
   ]
  },
  {
   "attachments": {},
   "cell_type": "markdown",
   "metadata": {},
   "source": [
    "Dropdowns are quite useful in a variety of components, so there are a lot of options."
   ]
  },
  {
   "attachments": {},
   "cell_type": "markdown",
   "metadata": {},
   "source": [
    "1. Dropdown Classes\n",
    "2. Dropdown Group\n",
    "3. Dropdown Options\n",
    "4. Dropdown Content"
   ]
  },
  {
   "attachments": {},
   "cell_type": "markdown",
   "metadata": {},
   "source": [
    "#### **_1. Dropdown Classes_**"
   ]
  },
  {
   "attachments": {},
   "cell_type": "markdown",
   "metadata": {},
   "source": [
    "- `dropdown`\n",
    "\n",
    "    - `dropdown-toggle`\n",
    "    \n",
    "    - `dropdown-menu`\n",
    "\n",
    "        - `dropdown-item`"
   ]
  },
  {
   "attachments": {},
   "cell_type": "markdown",
   "metadata": {},
   "source": [
    "Like many other components, but unlike some of the other components, the triggers are inside the main `dropdown` component. Because of this, there doesn't need to be a target from the trigger to the dropdown, so the data-bs-toggle attribute just looks for to the dropdown in the same component.\n",
    "\n",
    "The trigger has a class of dropdown-toggle and can be a link or a button. Again, no need to target anything since the dropdown-menu is in the same container. It has an ID so that it can be identified by the `aria-labelledby` property in the `dropdown-menu`.\n",
    "\n",
    "Finally, the `dropdown-menu` container has an assistive `aria-labelledby` pointing to the trigger"
   ]
  },
  {
   "attachments": {},
   "cell_type": "markdown",
   "metadata": {},
   "source": [
    "- [**Try it**](codepens/Dropdown.html)"
   ]
  },
  {
   "attachments": {},
   "cell_type": "markdown",
   "metadata": {},
   "source": [
    "#### **_2. Dropdown Group_** "
   ]
  },
  {
   "attachments": {},
   "cell_type": "markdown",
   "metadata": {},
   "source": [
    "- `btn-group`\n",
    "\n",
    "    - `dropdown-toggle-split`"
   ]
  },
  {
   "attachments": {},
   "cell_type": "markdown",
   "metadata": {},
   "source": [
    "Instead of using a dropdown container, you can use a button group class `btn-group`. That allows you to use two buttons and separate the action from the dropdown.\n",
    "\n",
    "The dropdown toggle can have an option to show up as a split button by adding a `dropdown-toggle-split` in a `btn-group`. That gives you two different buttons to handle the selection separately from the action."
   ]
  },
  {
   "attachments": {},
   "cell_type": "markdown",
   "metadata": {},
   "source": [
    "- [**Try it**](codepens/Dropdown-Button-Group.html)"
   ]
  },
  {
   "attachments": {},
   "cell_type": "markdown",
   "metadata": {},
   "source": [
    "#### **_3. Dropdown Options_** "
   ]
  },
  {
   "attachments": {},
   "cell_type": "markdown",
   "metadata": {},
   "source": [
    "- `dropdown-menu{-sm|-md|-lg|-xl|-xxl}-end`\n",
    "- `dropend dropstart dropup`\n",
    "- `dropdown-menu-dark`"
   ]
  },
  {
   "attachments": {},
   "cell_type": "markdown",
   "metadata": {},
   "source": [
    "There's a few classes that modify the way dropdowns work.\n",
    "\n",
    "If you want to control how the menu aligns with it's container, you can add a responsive class that controls at which breakpoint the menu switches from aligning at the beginning of the element to the end.\n",
    "\n",
    "Instead of the dropdown class, you can use one of several other directional classes. `dropend` puts the dropdown after or to the right of the element. `dropstart` puts it at the beginning and `dropup` puts it on top.\n",
    "\n",
    "There is a caveat, **popper.js**, the library that manages these dropdowns is pretty smart and if the dropdown doesn't fit on the page, it will try to add it in the opposite direction.\n",
    "\n",
    "`dropdown-menu-dark` - Gives you a dropdown with a dark background instead of the lighter background."
   ]
  },
  {
   "attachments": {},
   "cell_type": "markdown",
   "metadata": {},
   "source": [
    "- [**Try it**](codepens/Dropdown-Options.html)"
   ]
  },
  {
   "attachments": {},
   "cell_type": "markdown",
   "metadata": {},
   "source": [
    "#### **_4. Dropdown Content_**"
   ]
  },
  {
   "attachments": {},
   "cell_type": "markdown",
   "metadata": {},
   "source": [
    "- `dropdown-header`\n",
    "- `dropdown-divider`\n",
    "- `dropdown-item-text`"
   ]
  },
  {
   "attachments": {},
   "cell_type": "markdown",
   "metadata": {},
   "source": [
    "There are some styles that help you control the content in a dropdown.\n",
    "\n",
    "`dropdown-header` - This makes the text have a slightly smaller font size and look different than links.\n",
    "\n",
    "`dropdown-divider` - If you need to create a divider you can create an element with a class of `dropdown-divider`.\n",
    "\n",
    "`dropdown-item-text` - You can include an hr with a class of dropdown-divider."
   ]
  },
  {
   "attachments": {},
   "cell_type": "markdown",
   "metadata": {},
   "source": [
    "- [**Try it**](codepens/Dropdown-Content.html)"
   ]
  },
  {
   "attachments": {},
   "cell_type": "markdown",
   "metadata": {},
   "source": [
    "## [Tooltips](https://go.raybo.org/4AJR)"
   ]
  },
  {
   "attachments": {},
   "cell_type": "markdown",
   "metadata": {},
   "source": [
    "Tooltips are a deceptively simple looking component that adds explanatory text to elements. They require a bit of setup."
   ]
  },
  {
   "attachments": {},
   "cell_type": "markdown",
   "metadata": {},
   "source": [
    "1. Tooltip Data"
   ]
  },
  {
   "attachments": {},
   "cell_type": "markdown",
   "metadata": {},
   "source": [
    "#### **_1. Tooltip Data_**"
   ]
  },
  {
   "attachments": {},
   "cell_type": "markdown",
   "metadata": {},
   "source": [
    "- `button` or `a`\n",
    "\n",
    "    - `title=\"Tooltip Text\"`\n",
    "    - `data-bs-toggle=\"tooltip\"`\n",
    "    - `data-bs-placement=\"{SID}\"`\n",
    "\n",
    "        - **SID**: `top right bottom left`"
   ]
  },
  {
   "attachments": {},
   "cell_type": "markdown",
   "metadata": {},
   "source": [
    "The basic tooltip's text is added in the `title` property, the rest of the configuration can be added by using a number of data classes.\n",
    "\n",
    "The key data attributes are `data-bs-toggle=\"tooltip` and `data-bs-placement` with a `side` attribute.\n",
    "\n",
    "Tooltips have to be manually activated with some JavaScript that initializes them. They can also be a bit finicky with positioning and\n",
    "\n",
    "There are options for adding custom HTML templates, triggers, delays, offsets and lots more, so take a peek at the [documentation](https://getbootstrap.com/docs/5.0/components/tooltips/#options) for more info."
   ]
  },
  {
   "attachments": {},
   "cell_type": "markdown",
   "metadata": {},
   "source": [
    "- [**Try it**](codepens/Tooltips.html)"
   ]
  },
  {
   "attachments": {},
   "cell_type": "markdown",
   "metadata": {},
   "source": [
    "## [Popovers](https://go.raybo.org/4AJQ)"
   ]
  },
  {
   "attachments": {},
   "cell_type": "markdown",
   "metadata": {},
   "source": [
    "Popovers are just like tooltips and have some of the same options, but they remain on the screen after being clicked on."
   ]
  },
  {
   "attachments": {},
   "cell_type": "markdown",
   "metadata": {},
   "source": [
    "1. Popover Data"
   ]
  },
  {
   "attachments": {},
   "cell_type": "markdown",
   "metadata": {},
   "source": [
    "#### **_1. Popover Data_**"
   ]
  },
  {
   "attachments": {},
   "cell_type": "markdown",
   "metadata": {},
   "source": [
    "- `button` or `a`\n",
    "\n",
    "    - `title=\"Popover Headline\"`\n",
    "    \n",
    "    - `data-bs-content=\"Popover Copy\"`\n",
    "\n",
    "    - `data-bs-toggle=\"popover\"`\n",
    "\n",
    "    - `data-bs-placement=\"{SID}\"`\n",
    "\n",
    "        - **SID**: `top right bottom left`"
   ]
  },
  {
   "attachments": {},
   "cell_type": "markdown",
   "metadata": {},
   "source": [
    "The key data attributes are `data-bs-toggle=\"popover` and `data-bs-placement` with a `side` attribute.\n",
    "\n",
    "Unlike a tooltip, the content is not in a title tab, but in a `data-bs-content` property. If you do use a `title`, you get more of a headlines style for the popover.\n",
    "\n",
    "Popovers also have to be manually activated with some JavaScript that initializes them."
   ]
  },
  {
   "attachments": {},
   "cell_type": "markdown",
   "metadata": {},
   "source": [
    "- [**Try it**](codepens/Popovers.html)\n",
    "\n",
    "- [**Docs**](https://getbootstrap.com/docs/5.0/components/popovers/#options)"
   ]
  },
  {
   "attachments": {},
   "cell_type": "markdown",
   "metadata": {},
   "source": [
    "## [Scrollspy](https://go.raybo.org/4AJT)"
   ]
  },
  {
   "attachments": {},
   "cell_type": "markdown",
   "metadata": {},
   "source": [
    "Scrollspy provides a way for a nav or a list group to keep track of how a separate element is scrolling."
   ]
  },
  {
   "attachments": {},
   "cell_type": "markdown",
   "metadata": {},
   "source": [
    "1. Scrollspy Data"
   ]
  },
  {
   "attachments": {},
   "cell_type": "markdown",
   "metadata": {},
   "source": [
    "#### **_1. Scrollspy Data_**"
   ]
  },
  {
   "attachments": {},
   "cell_type": "markdown",
   "metadata": {},
   "source": [
    "- `nav`\n",
    "\n",
    "    - `data-bs-spy=\"scroll\"`\n",
    "    - `data-bs-spy=\"ID\"`\n",
    "    - `data-bs-offset=\"AMT\"`<br><br>\n",
    "\n",
    "- `position-relative`"
   ]
  },
  {
   "attachments": {},
   "cell_type": "markdown",
   "metadata": {},
   "source": [
    "In terms of implementation, it's pretty simple. There are two parts. The element you want to spy and the element that you want to modify.\n",
    "\n",
    "On the element you want to spy, you add a `data-bs-spy=\"scroll\"` as wel as `data-bs-spy=\"ID`\" with the ID of the element you want to track.\n",
    "\n",
    "The element you want to spy is usually the body tag since you often want to track how someone is scrolling through a document, but it doesn't have to be the body, it can be any element on the page.\n",
    "\n",
    "Another caveat is that the element you want to track needs to have a position relative attribute somehow. Otherwise, the tracking won't work properly.\n",
    "\n",
    "Sometimes if menu are positioned a certain way, you'll need an extra property called `data-bs-offset` with the height of the menu.\n",
    "\n",
    "To make this all work you'll need IDs around each of the content in the target that you want to trigger the change. In the navigation, you add an href partial with a hastag pointing to that link."
   ]
  },
  {
   "attachments": {},
   "cell_type": "markdown",
   "metadata": {},
   "source": [
    "- [**Nav**](codepens/ScrollSpy.html)\n",
    "\n",
    "- [**Scrollspy Navbar**](codepens/ScrollSpy-Navbar.html)"
   ]
  }
 ],
 "metadata": {
  "language_info": {
   "name": "python"
  },
  "orig_nbformat": 4
 },
 "nbformat": 4,
 "nbformat_minor": 2
}
