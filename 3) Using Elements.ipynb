{
 "cells": [
  {
   "attachments": {},
   "cell_type": "markdown",
   "metadata": {},
   "source": [
    "# <center>Using Elements</center>"
   ]
  },
  {
   "attachments": {},
   "cell_type": "markdown",
   "metadata": {},
   "source": [
    "## [Main Typography](https://go.raybo.org/49ss)"
   ]
  },
  {
   "attachments": {},
   "cell_type": "markdown",
   "metadata": {},
   "source": [
    "- There's quite a few classes that will help you with typography, so let's take a look at what's available.\n",
    "\n",
    "    1. Font Sizes\n",
    "    2. Weight/Styles\n",
    "    3. Line Height\n",
    "    4. Text Alignment\n",
    "    5. Text Decoration"
   ]
  },
  {
   "attachments": {},
   "cell_type": "markdown",
   "metadata": {},
   "source": [
    "#### 1. Font Sizes"
   ]
  },
  {
   "attachments": {},
   "cell_type": "markdown",
   "metadata": {},
   "source": [
    "- `h1 h2 h3 h4 h5 h6`\n",
    "\n",
    "- `fs-1 fs-2 fs-3 fs-4 fs-5 fs-6`\n",
    "\n",
    "- `display-1 display-2 display-3 display-4 display-5 display-6`\n",
    "\n",
    "- `lead`\n",
    "\n",
    "    [Try It](codepens/Font-Sizes.html)"
   ]
  },
  {
   "attachments": {},
   "cell_type": "markdown",
   "metadata": {},
   "source": [
    "- There are four types of font size classes.\n",
    "\n",
    "- The headline classes try to emulate the styles of headlines, so they will be the same size as an h1, h2, h3, etc. One of the nice things about these is that you can use them in inline or inline-block tags, so they don't have to have the space above and below the tag.\n",
    "\n",
    "- The font size tags, also match the headline tags, but without the boldness, applying only the font size.\n",
    "\n",
    "- The display heading classes are a lot bigger and are meant to stand out a bit more than headlines.\n",
    "\n",
    "- There is also a special class called `lead` that is really meant for paragraphs that need to stand out from regular text...usually at the top of an article."
   ]
  },
  {
   "attachments": {},
   "cell_type": "markdown",
   "metadata": {},
   "source": [
    "#### 2. Weight/Styles"
   ]
  },
  {
   "attachments": {},
   "cell_type": "markdown",
   "metadata": {},
   "source": [
    "- `fw-{WGT}`\n",
    "    - WGT: `lighter light normal bold bolder` \n",
    "    <br><br>\n",
    "- `fst-{STL}`\n",
    "    - STL: `italic normal`\n",
    "\n",
    "    [Try it](codepens/Font-Weight-Styles.html)"
   ]
  },
  {
   "attachments": {},
   "cell_type": "markdown",
   "metadata": {},
   "source": [
    "- You can control both the weight and style of text with these classes. These styles will override the current weight, so for example, if you were using a headline tag, it will override the boldness.\n",
    "\n",
    "- The normal style is meant as a reset, so if something is already set to be italic, then this will set it back to normal."
   ]
  },
  {
   "attachments": {},
   "cell_type": "markdown",
   "metadata": {},
   "source": [
    "#### 3. Line Height"
   ]
  },
  {
   "attachments": {},
   "cell_type": "markdown",
   "metadata": {},
   "source": [
    "- `lh-{HGT}`\n",
    "    - HGT: `1 sm base lg`\n",
    "\n",
    "    [Try it](codepens/Line-Height.html)"
   ]
  },
  {
   "attachments": {},
   "cell_type": "markdown",
   "metadata": {},
   "source": [
    "- There's a few line height styles that let you quickly control the space between lines of text. I think they're a little hard to remember."
   ]
  },
  {
   "attachments": {},
   "cell_type": "markdown",
   "metadata": {},
   "source": [
    "#### 4. Text Alignment"
   ]
  },
  {
   "attachments": {},
   "cell_type": "markdown",
   "metadata": {},
   "source": [
    "- text{-BR}-{TYP}\n",
    "    - BR: `sm md lg xl`\n",
    "    - TYP: `start center end`\n",
    "\n",
    "    [Try it](codepens/Text-Align.html)"
   ]
  },
  {
   "attachments": {},
   "cell_type": "markdown",
   "metadata": {},
   "source": [
    "- Text alignment of course lets you control the alignment of the text. The interesting thing about these is that there is a series of optional breakpoint tags that let you control alignment at the different bootstrap breakpoints.\n",
    "\n",
    "- The other interesting thing is that there is no justification class as in previous versions. I'm not a fan of full justification. It think it looks awful and can create odd spacing when you have a thin container."
   ]
  },
  {
   "attachments": {},
   "cell_type": "markdown",
   "metadata": {},
   "source": [
    "#### 5. Text Decoration"
   ]
  },
  {
   "attachments": {},
   "cell_type": "markdown",
   "metadata": {},
   "source": [
    "- `text-decoration-{TYP}`\n",
    "    - TYP: `underline line-through none`\n",
    "\n",
    "    [Try it](codepens/Text-Decoration.html)"
   ]
  },
  {
   "attachments": {},
   "cell_type": "markdown",
   "metadata": {},
   "source": [
    "- Text decoration lets you control the different type of underline styles available. They are often used to control the underlining of links. Notice that none here is used to get rid of an existing underline."
   ]
  },
  {
   "attachments": {},
   "cell_type": "markdown",
   "metadata": {},
   "source": [
    "## [Typography Modifications](https://go.raybo.org/49sw)"
   ]
  },
  {
   "attachments": {},
   "cell_type": "markdown",
   "metadata": {},
   "source": [
    "- There's some typography styles that are more related to the way fonts and text look on your layouts. Let's take a look at those.\n",
    "\n",
    "    1. Text Wrapping/Breaking\n",
    "    2. Text Transform\n",
    "    3. Vertical Alignment\n",
    "    4. Misc"
   ]
  },
  {
   "attachments": {},
   "cell_type": "markdown",
   "metadata": {},
   "source": [
    "#### 1. Text Wrapping/Breaking"
   ]
  },
  {
   "attachments": {},
   "cell_type": "markdown",
   "metadata": {},
   "source": [
    "- `text-{TYP}`\n",
    "    - TYP: `wrap nowrap break`\n",
    "\n",
    "    [Try it](codepens/Text-Wrap-Break.html)"
   ]
  },
  {
   "attachments": {},
   "cell_type": "markdown",
   "metadata": {},
   "source": [
    "- There are different ways to control how text wraps controlling wether spaces wrap or not and also if very long words should break."
   ]
  },
  {
   "attachments": {},
   "cell_type": "markdown",
   "metadata": {},
   "source": [
    "#### 2. Text Transform"
   ]
  },
  {
   "attachments": {},
   "cell_type": "markdown",
   "metadata": {},
   "source": [
    "- `text-{TYP}`\n",
    "    - TYP: `lowercase uppercase capitalize`\n",
    "    \n",
    "    [Try it](codepens/Text-Transform.html)"
   ]
  },
  {
   "attachments": {},
   "cell_type": "markdown",
   "metadata": {},
   "source": [
    "- Just like in CSS, you can capitalize text using these different classes. It's always better to use these instead of manually capitalizing things since they're more flexible. The interesting one and probably less useful is text-capitalize, which only changes the letter of each word."
   ]
  },
  {
   "attachments": {},
   "cell_type": "markdown",
   "metadata": {},
   "source": [
    "#### 3. Vertical Alignment"
   ]
  },
  {
   "attachments": {},
   "cell_type": "markdown",
   "metadata": {},
   "source": [
    "- `align-{TYP}`\n",
    "    - `baseline top middle bottom text-top text-bottom`\n",
    "\n",
    "    [Try it](codepens/Vertical-Alignment.html)"
   ]
  },
  {
   "attachments": {},
   "cell_type": "markdown",
   "metadata": {},
   "source": [
    "- This is one of the lesser useful set of classes, but it sometimes helps you align items to elements within the same line."
   ]
  },
  {
   "attachments": {},
   "cell_type": "markdown",
   "metadata": {},
   "source": [
    "#### 4. MISC"
   ]
  },
  {
   "attachments": {},
   "cell_type": "markdown",
   "metadata": {},
   "source": [
    "- RTL\n",
    "- There are some other text related classes that are important, but not very complicated, so let's talk about them.\n",
    "\n",
    "- First, is RTL or Right To Left. This new version of bootstrap supports languages that are written from right to left like arabic.\n",
    "\n",
    "- All you need to do is specify the language and the direction in your HTML tag."
   ]
  },
  {
   "cell_type": "code",
   "execution_count": null,
   "metadata": {
    "vscode": {
     "languageId": "html"
    }
   },
   "outputs": [],
   "source": [
    "<html lang=\"ar\" dir=\"rtl\">"
   ]
  },
  {
   "attachments": {},
   "cell_type": "markdown",
   "metadata": {},
   "source": [
    "- There's a couple of other small tags, `font-monospace` changes the font to mono-spaced type\n",
    "\n",
    "- `text-reset` is prety interesting. It lets you reset the color of texts and even links to its default dark color or the color of the parent element."
   ]
  },
  {
   "attachments": {},
   "cell_type": "markdown",
   "metadata": {},
   "source": [
    "- `font-monospace text-reset`\n",
    "\n",
    "    [Try it](codepens/Monospace-and-Reset.html)"
   ]
  },
  {
   "attachments": {},
   "cell_type": "markdown",
   "metadata": {},
   "source": [
    "## [Blockquotes and Simple Lists](https://go.raybo.org/49tM)"
   ]
  },
  {
   "attachments": {},
   "cell_type": "markdown",
   "metadata": {},
   "source": [
    "- There's a couple of special typographic elements like blockquotes and simple lists that do have their own special classes.\n",
    "\n",
    "    1. Blockquotes\n",
    "    2. Basic Lists"
   ]
  },
  {
   "attachments": {},
   "cell_type": "markdown",
   "metadata": {},
   "source": [
    "#### 1. Blockquotes"
   ]
  },
  {
   "attachments": {},
   "cell_type": "markdown",
   "metadata": {},
   "source": [
    "- `blockquote blockquote-footer figure`\n",
    "\n",
    "    [Try it](codepens/Blockquotes.html)"
   ]
  },
  {
   "attachments": {},
   "cell_type": "markdown",
   "metadata": {},
   "source": [
    "- Bootstrap has a special blockquote class that makes the font a little bigger. There's a special footer version of the class, but if you want to use it, you should use a figure container since it should be outside the blockquote according to conventions."
   ]
  },
  {
   "attachments": {},
   "cell_type": "markdown",
   "metadata": {},
   "source": [
    "#### 2. Basic Lists"
   ]
  },
  {
   "attachments": {},
   "cell_type": "markdown",
   "metadata": {},
   "source": [
    "- `list-{TYP}`\n",
    "    - TYP: `unstyled inline inline-item`\n",
    "\n",
    "    [Try it](codepens/Simple-Lists.html)"
   ]
  },
  {
   "attachments": {},
   "cell_type": "markdown",
   "metadata": {},
   "source": [
    "- There's a whole set of more complex list and list group classes, but there's a couple of simple classes you can use with regular lists as well. The unstyled class simply removes the margins and bullets, while the inline class brings the list items next to each other...like navigation."
   ]
  },
  {
   "attachments": {},
   "cell_type": "markdown",
   "metadata": {},
   "source": [
    "## [List Groups](https://go.raybo.org/49tP)"
   ]
  },
  {
   "attachments": {},
   "cell_type": "markdown",
   "metadata": {},
   "source": [
    "- There is a whole category of classes that are technically a component, but control how lists of things are displayed. They can also be used inside many components so let's check them out.\n",
    "\n",
    "    1. List Groups\n",
    "    2. Flush List Groups\n",
    "    3. Actionable Items\n",
    "    4. Horizontal\n",
    "    5. Contextual Colors"
   ]
  },
  {
   "attachments": {},
   "cell_type": "markdown",
   "metadata": {},
   "source": [
    "#### 1. List Groups"
   ]
  },
  {
   "attachments": {},
   "cell_type": "markdown",
   "metadata": {},
   "source": [
    "- `list-group list-group-item`\n",
    "- Modifiers:\n",
    "   - `active aria-current=\"true\"`\n",
    "   - `disabled tabindex=\"-1\" aria-disabled=\"true\"`\n",
    "\n",
    "   [Try it](codepens/List-Group.html)"
   ]
  },
  {
   "attachments": {},
   "cell_type": "markdown",
   "metadata": {},
   "source": [
    "- The most basic list group is created by adding a `list-group` class to an unordered list container and a series of `list-group-item` classes on the list items.\n",
    "\n",
    "- Also, when you add the `active` class you should also act the `aria-current=\"true\"` property to your tag.\n",
    "\n",
    "- In the same way, for the disabled class, you should add `tabindex=\"-1\"` and `aria-disabled=\"true\"`"
   ]
  },
  {
   "attachments": {},
   "cell_type": "markdown",
   "metadata": {},
   "source": [
    "#### 2. Flush List Groups"
   ]
  },
  {
   "attachments": {},
   "cell_type": "markdown",
   "metadata": {},
   "source": [
    "- `list-group-flush`\n",
    "\n",
    "    [Try it](codepens/List-Group-Flush.html)"
   ]
  },
  {
   "attachments": {},
   "cell_type": "markdown",
   "metadata": {},
   "source": [
    "- You can add a list-group-flush class so that the lists don't have any outlines."
   ]
  },
  {
   "attachments": {},
   "cell_type": "markdown",
   "metadata": {},
   "source": [
    "#### 3. Actionable Items"
   ]
  },
  {
   "attachments": {},
   "cell_type": "markdown",
   "metadata": {},
   "source": [
    "- `list-group-item-action`\n",
    "    \n",
    "    [Try it](codepens/List-Group-Item-Action.html)"
   ]
  },
  {
   "attachments": {},
   "cell_type": "markdown",
   "metadata": {},
   "source": [
    "- You can make a list of anchor links or buttons into a list group by adding a list-group-item-icon class. This also sets up a hover style when you roll over the links."
   ]
  },
  {
   "attachments": {},
   "cell_type": "markdown",
   "metadata": {},
   "source": [
    "#### 4. Horizontal"
   ]
  },
  {
   "attachments": {},
   "cell_type": "markdown",
   "metadata": {},
   "source": [
    "- `list-group-horizontal{-BR}`\n",
    "    - BR: `sm md lg xl xxl`\n",
    "    \n",
    "    [Try it](codepens/Horizontal-List-Groups.html)"
   ]
  },
  {
   "attachments": {},
   "cell_type": "markdown",
   "metadata": {},
   "source": [
    "- You can also make the lists display as horizontal elements that look like cells."
   ]
  },
  {
   "attachments": {},
   "cell_type": "markdown",
   "metadata": {},
   "source": [
    "#### 5. Contextual Colors"
   ]
  },
  {
   "attachments": {},
   "cell_type": "markdown",
   "metadata": {},
   "source": [
    "- `list-group-item{-COL}`\n",
    "    - COL: `primary secondary success danger warning info light dark`\n",
    "    \n",
    "    [Try it](codepens/Contextual-List-Group-Classes.html)"
   ]
  },
  {
   "attachments": {},
   "cell_type": "markdown",
   "metadata": {},
   "source": [
    "- There are contextual color classes you can use to put some colors behind each of the list items. Like the other classes they will work with buttons and links too."
   ]
  },
  {
   "attachments": {},
   "cell_type": "markdown",
   "metadata": {},
   "source": [
    "## [Tables](https://go.raybo.org/4AFM)"
   ]
  },
  {
   "attachments": {},
   "cell_type": "markdown",
   "metadata": {},
   "source": [
    "- Tables look great in Bootstrap with a lot of classes that can customize their look.\n",
    "\n",
    "    1. Table & Contextual\n",
    "    2. Table Rows & Cells\n",
    "    3. Style Modifiers\n",
    "    4. Borders\n",
    "    5. Responsive Tables\n",
    "    6. Vertical Alignment"
   ]
  },
  {
   "attachments": {},
   "cell_type": "markdown",
   "metadata": {},
   "source": [
    "#### 1. Tables & Contextual"
   ]
  },
  {
   "attachments": {},
   "cell_type": "markdown",
   "metadata": {},
   "source": [
    "- Basic: `table`\n",
    "\n",
    "- Contextual: `table-{TYP}`\n",
    "\n",
    "    - TYP: `primary secondary success danger warning info light dark`\n",
    "\n",
    "    [Try it](codepens/Table-and-Contextual.html)"
   ]
  },
  {
   "attachments": {},
   "cell_type": "markdown",
   "metadata": {},
   "source": [
    "- There is a basic table class which modifies the way all tables look by adding bold headers with lines underneath. There are also contextual color classes, which can make an entire table show a color."
   ]
  },
  {
   "attachments": {},
   "cell_type": "markdown",
   "metadata": {},
   "source": [
    "#### 2. Table Rows & Cells"
   ]
  },
  {
   "attachments": {},
   "cell_type": "markdown",
   "metadata": {},
   "source": [
    "- `table-active`\n",
    "\n",
    "- Contextual: `table-{TYP}`\n",
    "\n",
    "    - TYP: `primary secondary success danger warning info light dark`\n",
    "\n",
    "    [Try it](codepens/Table-Rows-and-Cells.html)"
   ]
  },
  {
   "attachments": {},
   "cell_type": "markdown",
   "metadata": {},
   "source": [
    "- Inside table cells or rows, you can use an additional class called table active. That will give you a slightly darker color to highlight a cell.\n",
    "\n",
    "- You can also use the contextual table classes to specify a color there."
   ]
  },
  {
   "attachments": {},
   "cell_type": "markdown",
   "metadata": {},
   "source": [
    "#### 3. Style Modifiers"
   ]
  },
  {
   "attachments": {},
   "cell_type": "markdown",
   "metadata": {},
   "source": [
    "- `table-{TYP}`\n",
    "    - TYP: `striped hover sm`\n",
    "\n",
    "    [Try it](codepens/Table-Modifiers.html)"
   ]
  },
  {
   "attachments": {},
   "cell_type": "markdown",
   "metadata": {},
   "source": [
    "- There's a few styles that you can add to tables to modify their looks.\n",
    "\n",
    "- The first is `striped`, which highlights every other cell in your list.\n",
    "\n",
    "- The second is `hover`, which changes the style when users hover over one of the rows.\n",
    "\n",
    "- Then there is a small (`sm`) version of the table that you can use to give tables a bit less padding."
   ]
  },
  {
   "attachments": {},
   "cell_type": "markdown",
   "metadata": {},
   "source": [
    "#### 4. Borders"
   ]
  },
  {
   "attachments": {},
   "cell_type": "markdown",
   "metadata": {},
   "source": [
    "- `table-bordered table-borderless`\n",
    "\n",
    "- Contextual: `border-{TYP}`\n",
    "\n",
    "    - TYP: `primary secondary success danger warning info light dark`\n",
    "\n",
    "    [Try it](codepens/Table-Border.html)"
   ]
  },
  {
   "attachments": {},
   "cell_type": "markdown",
   "metadata": {},
   "source": [
    "- Borders deserve a separate mention since there are many options. You can add a border around the cells using the table-bordered class. There is also an option that will remove all borders called table-borderless.\n",
    "\n",
    "- There's also a set of classes you can use with table border that will let you control the color of the borders."
   ]
  },
  {
   "attachments": {},
   "cell_type": "markdown",
   "metadata": {},
   "source": [
    "#### 5. Responsive Tables"
   ]
  },
  {
   "attachments": {},
   "cell_type": "markdown",
   "metadata": {},
   "source": [
    "- `table-responsive{-TYP}`\n",
    "    - TYP: `sm md lg xl xxl`\n",
    "\n",
    "    [Try it](codepens/Responsive-Tables.html)"
   ]
  },
  {
   "attachments": {},
   "cell_type": "markdown",
   "metadata": {},
   "source": [
    "- You can ask your tables to be responsive. To get this working you have to wrap a table with a container that has a class of table responsive. The regular class will always be responsive at any width and you can add responsive options that control when the table switches to a responsive layout.\n",
    "\n",
    "- So, for example, `table-responsive-md` will only be responsive when the table is smaller than the medium breakpoint. In the example, you'll notice I also added a `text-nowrap` class so that the content doesn't wrap."
   ]
  },
  {
   "attachments": {},
   "cell_type": "markdown",
   "metadata": {},
   "source": [
    "#### 6. Vertical Alignment"
   ]
  },
  {
   "attachments": {},
   "cell_type": "markdown",
   "metadata": {},
   "source": [
    "- `align-{TYP}`\n",
    "    - TYP: `baseline top middle bottom text-top text-bottom`\n",
    "    \n",
    "    [Try it](codepens/Table-Vertical-Alignment.html)"
   ]
  },
  {
   "attachments": {},
   "cell_type": "markdown",
   "metadata": {},
   "source": [
    "- The same vertical alignment classes we can assign to text apply to table cells. They're not as useful as they used to be and nowadays we align mostly with flexbox and grid.\n",
    "\n",
    "    - `baseline` - aligns the baseline of the current element with it's parent.\n",
    "\n",
    "    - `top` - aligns the top padding edge of the cell with the top of the row.\n",
    "\n",
    "    - `middle` - centers the padding box of the cell within the existing row.\n",
    "\n",
    "    - `bottom` - aligns the bottom padding edge of the cell with the bottom of the row.\n",
    "\n",
    "    - `text-top` - aligns the top with the top of the parent's font.\n",
    "\n",
    "    - `text-bottom` - aligns the bottom with the bottom of the parent's font."
   ]
  },
  {
   "attachments": {},
   "cell_type": "markdown",
   "metadata": {},
   "source": [
    "## [Images and Figures](https://go.raybo.org/4AFN)"
   ]
  },
  {
   "attachments": {},
   "cell_type": "markdown",
   "metadata": {},
   "source": [
    "- A few classes help you control how images and figures work.\n",
    "\n",
    "    1. Images\n",
    "    2. Floats\n",
    "    3. Figures"
   ]
  },
  {
   "attachments": {},
   "cell_type": "markdown",
   "metadata": {},
   "source": [
    "#### 1. Images"
   ]
  },
  {
   "attachments": {},
   "cell_type": "markdown",
   "metadata": {},
   "source": [
    "- `img-fluid img-thumbnail`\n",
    "\n",
    "    [Try it](codepens/Images.html)"
   ]
  },
  {
   "attachments": {},
   "cell_type": "markdown",
   "metadata": {},
   "source": [
    "- There are two specific classes related to images, the `img-fluid` class will automatically let you build responsive images. It sets the width of the image to 100% and the height to auto so it scales with the parent."
   ]
  },
  {
   "attachments": {},
   "cell_type": "markdown",
   "metadata": {},
   "source": [
    "- There's a separate class called `img-thumbnail` that creates a thumbnail image with a slight outline. I don't really use this one very often, but it looks nice."
   ]
  },
  {
   "cell_type": "markdown",
   "metadata": {},
   "source": [
    "#### 2. Floats"
   ]
  },
  {
   "attachments": {},
   "cell_type": "markdown",
   "metadata": {},
   "source": [
    "- `float-start float-end`\n",
    "\n",
    "- `clearfix`\n",
    "\n",
    "    [Try it](codepens/Floats.html)"
   ]
  },
  {
   "attachments": {},
   "cell_type": "markdown",
   "metadata": {},
   "source": [
    "- To align element to content you can use two classes. Bootsrap 5 has RTL, or right to left support to whereas you may think of the float-start as a float-left and float-end and float-right.\n",
    "\n",
    "- Containers with floated elements can lose track of the height of floated items, so Bootstrap provides a clearfix class that takes care of this."
   ]
  },
  {
   "cell_type": "markdown",
   "metadata": {},
   "source": [
    "#### 3. Figures"
   ]
  },
  {
   "attachments": {},
   "cell_type": "markdown",
   "metadata": {},
   "source": [
    "- `figure figure-img figure-caption`\n",
    "\n",
    "    [Try it](codepens/Figures-and-Captions.html)"
   ]
  },
  {
   "attachments": {},
   "cell_type": "markdown",
   "metadata": {},
   "source": [
    "- Figures is an HTML element that lets you specify an image and it's text. Bootsrrap provides a few classes that helps set up a certain style for these elements."
   ]
  }
 ],
 "metadata": {
  "language_info": {
   "name": "python"
  },
  "orig_nbformat": 4
 },
 "nbformat": 4,
 "nbformat_minor": 2
}
