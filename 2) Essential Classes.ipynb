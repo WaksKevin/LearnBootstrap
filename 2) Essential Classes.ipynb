{
 "cells": [
  {
   "attachments": {},
   "cell_type": "markdown",
   "metadata": {},
   "source": [
    "# <center>Essential Classes</center> "
   ]
  },
  {
   "attachments": {},
   "cell_type": "markdown",
   "metadata": {},
   "source": [
    "## [Containers](https://go.raybo.org/49r5)"
   ]
  },
  {
   "attachments": {},
   "cell_type": "markdown",
   "metadata": {},
   "source": [
    "- The first thing I do on every site is determine whether or not I want some content to fit within the bootstrap grid using a special class called a `container`. It's quite possibly the most important tag in Bootstrap. Let's take a peek."
   ]
  },
  {
   "attachments": {},
   "cell_type": "markdown",
   "metadata": {},
   "source": [
    "1. `container` max-width\n",
    "2. `container-fluid` 100%\n",
    "3. `container{-BR}` 100%->breakpoint\n",
    "\n",
    "    - **BR**: _sm_ ≥576px _md_ ≥768px _lg_ ≥992px <br>\n",
    "              _xl_ ≥1200px _xxl_ ≥1200px _fluid_ 100%\n",
    "\n",
    "    [Try it](codepens/Container.html)"
   ]
  },
  {
   "attachments": {},
   "cell_type": "markdown",
   "metadata": {},
   "source": [
    "- There are three versions of the container class, the simplest version is to just use the `container` class. It will make your content stick to certain positions as the window gets wider. If the content is less than 576 pixels, then it be at 100% width.\n",
    "\n",
    "- The second is the `container-fluid` class, it makes the content 100% of the width of the browser, but has a small margin of 16 pixels on each side.\n",
    "\n",
    "- There's also a set of <u>**breakpoint controlled containers**</u>. They will have a width of 100% until they reach the specified breakpoint. So for example the `container-lg` will be 100% width until it reaches the large breakpoint, which is 992pixels. It will stick at that and bigger size, again with a margin of 16 pixels on each side."
   ]
  },
  {
   "attachments": {},
   "cell_type": "markdown",
   "metadata": {},
   "source": [
    "| Breakpoint   | Extra small<br><576px | Small<br>≥576px | Medium<br>≥768px | Large<br>≥992px | X-Large<br>≥1200px | XX-Large<br>≥1400px |\n",
    "|---------------|-------------|-------|--------|-------|---------|----------|\n",
    "| .container    | 100%        | 540px | 720px  | 960px | 1140px  | 1320px   |\n",
    "| .container-sm | 100%        | 540px | 720px  | 960px | 1140px  | 1320px   |\n",
    "| .container-md | 100%        | -     | 720px  | 960px | 1140px  | 1320px   |\n",
    "| .container-lg | 100%        | -     | -      | 960px | 1140px  | 1320px   |\n",
    "| .container-xl | 100%        | -     | -      | -     | 1140px  | 1320px   |\n",
    "| .container-xxl| 100%        | -     | -      | -     | -       | 1320px   |\n",
    "| .container-fluid | 100%     | -     | -      | -     | -       | -        |\n"
   ]
  },
  {
   "attachments": {},
   "cell_type": "markdown",
   "metadata": {},
   "source": [
    "## [Colors](https://go.raybo.org/49rH)"
   ]
  },
  {
   "attachments": {},
   "cell_type": "markdown",
   "metadata": {},
   "source": [
    "#### 1. Colors"
   ]
  },
  {
   "attachments": {},
   "cell_type": "markdown",
   "metadata": {},
   "source": [
    "- Bootstrap has a number of colors that you can access through contextual color names. They are used all over the place including **buttons**, **backgrounds**, **text**, **links**, as well as **borders**."
   ]
  },
  {
   "attachments": {},
   "cell_type": "markdown",
   "metadata": {},
   "source": [
    "1. Background Colors - `bg-{COLOR}`\n",
    "2. Text Colors - `text-{COLOR}`\n",
    "3. Link Colors - `link-{COLOR}`\n",
    "3. Border Colors - `border-{COLOR}`  |  Note that you have to specify `border` before using `border-{COLOR}`\n",
    "\n",
    "    - **COLOR**:\n",
    "        - <span style=\"color:blue\">primary</span>\n",
    "        - <span style=\"color:gray\">secondary</span>\n",
    "        - <span style=\"color:green\">success</span>\n",
    "        - <span style=\"color:red\">danger</span>\n",
    "        - <span style=\"color:orange\">warning</span>\n",
    "        - <span style=\"color:dodgerblue\">info</span>\n",
    "        - <span style=\"color:lightgray\">light</span>\n",
    "        - <span style=\"color:darkgray\">dark</span>"
   ]
  },
  {
   "attachments": {},
   "cell_type": "markdown",
   "metadata": {},
   "source": [
    "- In addition to these colors, bootstrap sets up additional colors available as CSS variables, which you can access with the var keyword.\n",
    "\n",
    "    `--bs-blue`: #0d6efd;<br>\n",
    "    `--bs-indigo`: #6610f2;<br>\n",
    "    `--bs-purple`: #6f42c1;<br>\n",
    "    `--bs-pink`: #d63384;<br>\n",
    "    `--bs-red`: #dc3545;<br>\n",
    "    `--bs-orange`: #fd7e14;<br>\n",
    "    `--bs-yellow`: #ffc107;<br>\n",
    "    `--bs-green`: #198754;<br>\n",
    "    `--bs-teal`: #20c997;<br>\n",
    "    `--bs-cyan`: #0dcaf0;<br>\n",
    "    `--bs-white`: #fff;<br>\n",
    "    `--bs-gray`: #6c757d;<br>\n",
    "    `--bs-gray-dark`: #343a40;<br>\n",
    "    `--bs-primary`: #0d6efd;<br>\n",
    "    `--bs-secondary`: #6c757d;<br>\n",
    "    `--bs-success`: #198754;<br>\n",
    "    `--bs-info`: #0dcaf0;<br>\n",
    "    `--bs-warning`: #ffc107;<br>\n",
    "    `--bs-danger`: #dc3545;<br>\n",
    "    `--bs-light`: #f8f9fa;<br>\n",
    "    `--bs-dark`: #212529;<br>\n",
    "\n",
    "    [Theme Colors](https://getbootstrap.com/docs/5.3/customize/color/#theme-colors)"
   ]
  },
  {
   "attachments": {},
   "cell_type": "markdown",
   "metadata": {},
   "source": [
    "- Although you can use these variables. If you really want to customize your colors, it's best to use the Sass version of Bootsrap. It has a lot more color variables and it's much easier to customize them."
   ]
  },
  {
   "attachments": {},
   "cell_type": "markdown",
   "metadata": {},
   "source": [
    "#### 2. Practice"
   ]
  },
  {
   "attachments": {},
   "cell_type": "markdown",
   "metadata": {},
   "source": [
    "1. Add color to text\n",
    "2. Change a background color\n",
    "3. Change the link color\n",
    "4. Use a color variable\n",
    "5. Redefine a color\n",
    "\n",
    "    [End](/var/projects/WaksKevin/LearnBootstrap/codepens/Colors.html)"
   ]
  },
  {
   "attachments": {},
   "cell_type": "markdown",
   "metadata": {},
   "source": [
    "## [Spacing](https://go.raybo.org/49rU)"
   ]
  },
  {
   "attachments": {},
   "cell_type": "markdown",
   "metadata": {},
   "source": [
    "- Bootstrap gives you a number of classes you can use to add margin and padding to elements."
   ]
  },
  {
   "attachments": {},
   "cell_type": "markdown",
   "metadata": {},
   "source": [
    "#### 1. Padding"
   ]
  },
  {
   "attachments": {},
   "cell_type": "markdown",
   "metadata": {},
   "source": [
    "- Padding adds space inside an element. You can add it to the **top**(`t`), the right side, which is known as **end**(`e`), the **bottom**(`b`), or the left, also known as the **start**(`s`).\n",
    "\n",
    "- You can also add it to both horizontal sides or vertical sides with `x` and `y`."
   ]
  },
  {
   "attachments": {},
   "cell_type": "markdown",
   "metadata": {},
   "source": [
    "- `p{DIR}-{AMT}`<br>\n",
    "\n",
    "- **DIR**\n",
    "    - `t e b s`\n",
    "    - `x y`\n",
    "\n",
    "- **AMT**\n",
    "    - `0 1 2 3 4 5`\n",
    "\n",
    "    [Try it](codepens/Padding.html)"
   ]
  },
  {
   "attachments": {},
   "cell_type": "markdown",
   "metadata": {},
   "source": [
    "#### 2. Margin"
   ]
  },
  {
   "attachments": {},
   "cell_type": "markdown",
   "metadata": {},
   "source": [
    "- Margin is pretty much the same as padding, except that there's an additional setting for when margin needs to be set to `auto`."
   ]
  },
  {
   "attachments": {},
   "cell_type": "markdown",
   "metadata": {},
   "source": [
    "- `m{DIR}-{AMT}`<br>\n",
    "\n",
    "- **DIR**\n",
    "    - `t e b s`\n",
    "    - `x y`\n",
    "\n",
    "- **AMT**\n",
    "    - `0 1 2 3 4 5 auto`\n",
    "\n",
    "    [Try it](codepens/Margin.html)"
   ]
  },
  {
   "attachments": {},
   "cell_type": "markdown",
   "metadata": {},
   "source": [
    "#### 3. Gap"
   ]
  },
  {
   "attachments": {},
   "cell_type": "markdown",
   "metadata": {},
   "source": [
    "- There's an additional utility called `gap` that is only relevant for some classes like the display-grid class."
   ]
  },
  {
   "attachments": {},
   "cell_type": "markdown",
   "metadata": {},
   "source": [
    "- `gap-{AMT}`<br>\n",
    "\n",
    "- **AMT**\n",
    "    - `0 1 2 3 4 5`\n",
    "\n",
    "    [Try it](codepens/Gap.html)"
   ]
  },
  {
   "attachments": {},
   "cell_type": "markdown",
   "metadata": {},
   "source": [
    "## [Display](https://go.raybo.org/49s4)"
   ]
  },
  {
   "attachments": {},
   "cell_type": "markdown",
   "metadata": {},
   "source": [
    "- The display property is one of the more useful in CSS and Bootstrap has a full complement of options including responsive options."
   ]
  },
  {
   "attachments": {},
   "cell_type": "markdown",
   "metadata": {},
   "source": [
    "#### 1. Display"
   ]
  },
  {
   "attachments": {},
   "cell_type": "markdown",
   "metadata": {},
   "source": [
    "- The display class starts with a `d`, then you specify some additional parameters to control the display depending on the properties of your browser.\n",
    "\n",
    "- The values are typical CSS values for the display property which are very rich."
   ]
  },
  {
   "attachments": {},
   "cell_type": "markdown",
   "metadata": {},
   "source": [
    "- `d-{VAL}`<br>\n",
    "\n",
    "- **VAL**\n",
    "    - `none inline inline-block block`\n",
    "    - `grid table table-cell table-row flex inline-flex`\n",
    "\n",
    "    [Try it](codepens/Display-Values.html)"
   ]
  },
  {
   "attachments": {},
   "cell_type": "markdown",
   "metadata": {},
   "source": [
    "#### 2. Viewport Breakpoints"
   ]
  },
  {
   "attachments": {},
   "cell_type": "markdown",
   "metadata": {},
   "source": [
    "- The breakpoints let you modify the properties depending on the width of the container.\n",
    "\n",
    "- Take a look at how they work 'cause they can really help you design things better."
   ]
  },
  {
   "attachments": {},
   "cell_type": "markdown",
   "metadata": {},
   "source": [
    "- `d{-BR}-{VAL`<br>\n",
    "\n",
    "- **BR**\n",
    "    - `sm md lg xl xxl`\n",
    "\n",
    "    [Try it](codepens/Viewport-Breakpoints.html)"
   ]
  },
  {
   "attachments": {},
   "cell_type": "markdown",
   "metadata": {},
   "source": [
    "#### 3. Visibility"
   ]
  },
  {
   "attachments": {},
   "cell_type": "markdown",
   "metadata": {},
   "source": [
    "- There's also a couple of classes that help you show or hide an element. `visible` is the reset, so it's used to unset `invisible`, otherwise you don't really use it.\n",
    "\n",
    "- `invisible` is different than `display-none` in that they don't modify the display values and do not affect the layout, so they still take up space. They will also be hidden from assistive technologies."
   ]
  },
  {
   "attachments": {},
   "cell_type": "markdown",
   "metadata": {},
   "source": [
    "- `visible invisible`\n",
    "\n",
    "    [Try it](codepens/Invisible.html)"
   ]
  },
  {
   "attachments": {},
   "cell_type": "markdown",
   "metadata": {},
   "source": [
    "#### 4. Contextual Printing"
   ]
  },
  {
   "attachments": {},
   "cell_type": "markdown",
   "metadata": {},
   "source": [
    "- You can specify how the element will display when printing by using a print keyword here as well.\n",
    "\n",
    "- These set of special print classes can show or hide content when you print the document.\n",
    "\n",
    "- You can use these with the viewport classes to control how an element will print as well, so you can specify that although something looks like an inline element, it will be printed as a block element."
   ]
  },
  {
   "attachments": {},
   "cell_type": "markdown",
   "metadata": {},
   "source": [
    "- `d-print-{VAL}`<br>\n",
    "\n",
    "    `none sm md lg xl xxl`<br>\n",
    "    <br>\n",
    "    `grid table table-cell table-row flex inline-flex`\n",
    "\n",
    "\n",
    "    [Try it](codepens/Contextual-Printing.html)"
   ]
  },
  {
   "attachments": {},
   "cell_type": "markdown",
   "metadata": {},
   "source": [
    "## [Position](https://go.raybo.org/49sY)"
   ]
  },
  {
   "attachments": {},
   "cell_type": "markdown",
   "metadata": {},
   "source": [
    "- `position` is another key property in CSS and Bootstrap has a full complement of classes."
   ]
  },
  {
   "attachments": {},
   "cell_type": "markdown",
   "metadata": {},
   "source": [
    "#### 1. Position Properties "
   ]
  },
  {
   "attachments": {},
   "cell_type": "markdown",
   "metadata": {},
   "source": [
    "- The position property in CSS lets you control how an element flows within the context of the existing page.\n",
    "\n",
    "    - `static` - The element will flow with the natural flow of the page. This is the default.\n",
    "\n",
    "    - `relative` - The element would go where it would normally go, but we can offset it's position from that spot.\n",
    "\n",
    "    - `absolute` - The element is removed from where it would normally go and is positioned in relation to the nearest relatively position parent...or the window if nothing reaches the window.\n",
    "\n",
    "    - `fixed` - This element moves relative to the viewport (browser window)\n",
    "\n",
    "    - `sticky` - This element will stick to a certain position as it scrolls by."
   ]
  },
  {
   "attachments": {},
   "cell_type": "markdown",
   "metadata": {},
   "source": [
    "- `position-{VAL}`\n",
    "\n",
    "    `static relative absolute fixed sticky`"
   ]
  },
  {
   "attachments": {},
   "cell_type": "markdown",
   "metadata": {},
   "source": [
    "- If you want to try it out using vanilla CSS, see the codepens below.\n",
    "    - [CSS-Position](codepens/vanilla_css/CSS-Position.html)\n",
    "    - [CSS-z-index](codepens/vanilla_css/CSS-z-index.html)"
   ]
  },
  {
   "attachments": {},
   "cell_type": "markdown",
   "metadata": {},
   "source": [
    "- Note that for `absolute` and `fixed`, you have to specify the `width` and `height` because they are removed from the layout and will take the sized according to the border-size property of the element. i.e padding will affect the size.  "
   ]
  },
  {
   "attachments": {},
   "cell_type": "markdown",
   "metadata": {},
   "source": [
    "#### 2. Arrangement Properties"
   ]
  },
  {
   "attachments": {},
   "cell_type": "markdown",
   "metadata": {},
   "source": [
    "- Where an element sits is relative to a position attribute and we have four sides with three position options we can specify.\n",
    "\n",
    "- There's also an extra property you can use to center elements in each of the corners."
   ]
  },
  {
   "attachments": {},
   "cell_type": "markdown",
   "metadata": {},
   "source": [
    "- `{PRO}{POS}`\n",
    "\n",
    "    - **PRO**\n",
    "        `top start bottom end`\n",
    "\n",
    "    - **POS**\n",
    "        `0 50 100`\n",
    "\n",
    "    - **TRANSLATE**\n",
    "        `translate-middle`\n",
    "\n",
    "    [Try it](codepens/Display-Practice.html)"
   ]
  },
  {
   "attachments": {},
   "cell_type": "markdown",
   "metadata": {},
   "source": [
    "#### 3. Practice"
   ]
  },
  {
   "attachments": {},
   "cell_type": "markdown",
   "metadata": {},
   "source": [
    "- Create a button that has an icon in the corner. Use one of the Bootstrap Icons to add an icon to the corner of the button. use positioning classes to align it to the top right.\n",
    "\n",
    "    - Create a button\n",
    "    - Add an icon inside\n",
    "    - Use positioning/translate\n",
    "    - Align icon top right\n",
    "\n",
    "    [End](codepens/Positioning.html)\n",
    "\n"
   ]
  }
 ],
 "metadata": {
  "language_info": {
   "name": "python"
  },
  "orig_nbformat": 4
 },
 "nbformat": 4,
 "nbformat_minor": 2
}
