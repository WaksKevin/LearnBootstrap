{
 "cells": [
  {
   "attachments": {},
   "cell_type": "markdown",
   "metadata": {},
   "source": [
    "# <center>Modifying Elements</center>"
   ]
  },
  {
   "attachments": {},
   "cell_type": "markdown",
   "metadata": {},
   "source": [
    "## [Box Modifiers](go.raybo.org/4AFc)"
   ]
  },
  {
   "attachments": {},
   "cell_type": "markdown",
   "metadata": {},
   "source": [
    "There's a couple of classes that help you add certain styles like borders to block elements, rounded edges and shadows in various directions."
   ]
  },
  {
   "attachments": {},
   "cell_type": "markdown",
   "metadata": {},
   "source": [
    "1. Borders\n",
    "2. Contextual Borders\n",
    "3. Border Width\n",
    "4. Border Radius\n",
    "5. Radius Sizes\n",
    "6. Shadows"
   ]
  },
  {
   "attachments": {},
   "cell_type": "markdown",
   "metadata": {},
   "source": [
    "#### **_1. Borders_**"
   ]
  },
  {
   "attachments": {},
   "cell_type": "markdown",
   "metadata": {},
   "source": [
    "The `border` class **adds a very light border to your elements**."
   ]
  },
  {
   "attachments": {},
   "cell_type": "markdown",
   "metadata": {},
   "source": [
    "- `border`"
   ]
  },
  {
   "attachments": {},
   "cell_type": "markdown",
   "metadata": {},
   "source": [
    "\n",
    "There are classes that add a border to a specific side. **Notice that because of the Right To Left support, what you might be used to calling `left` is now `start` and what was formerly known as `right` is now called `end`**."
   ]
  },
  {
   "attachments": {},
   "cell_type": "markdown",
   "metadata": {},
   "source": [
    "- Additive: `border-{SID}`\n",
    "\n",
    "    **SID**: `top end bottom start`"
   ]
  },
  {
   "attachments": {},
   "cell_type": "markdown",
   "metadata": {},
   "source": [
    "There is also a set of classes that deletes the borders from a specific side. It assumes that these sides have already been assigned borders."
   ]
  },
  {
   "cell_type": "markdown",
   "metadata": {},
   "source": [
    "- Subtractive: `border-0-{SID}`\n",
    "\n",
    "    **SID**: `top end bottom start`"
   ]
  },
  {
   "attachments": {},
   "cell_type": "markdown",
   "metadata": {},
   "source": [
    "You can add more than one of these classes to add or delete specific borders to different sides."
   ]
  },
  {
   "attachments": {},
   "cell_type": "markdown",
   "metadata": {},
   "source": [
    "- [**Try it**](codepens/Borders.html)"
   ]
  },
  {
   "attachments": {},
   "cell_type": "markdown",
   "metadata": {},
   "source": [
    "#### **_2. Contextual Borders_**"
   ]
  },
  {
   "attachments": {},
   "cell_type": "markdown",
   "metadata": {},
   "source": [
    "- `border-{COL}`\n",
    "\n",
    "    **COL:** `primary secondary success danger warning info light dark white`"
   ]
  },
  {
   "attachments": {},
   "cell_type": "markdown",
   "metadata": {},
   "source": [
    "- [**Try it**](codepens/Contextual-Borders.html)"
   ]
  },
  {
   "attachments": {},
   "cell_type": "markdown",
   "metadata": {},
   "source": [
    "#### **_3. Border Width_**"
   ]
  },
  {
   "attachments": {},
   "cell_type": "markdown",
   "metadata": {},
   "source": [
    "There are a few sizes for borders from 1 to 5 pixels."
   ]
  },
  {
   "attachments": {},
   "cell_type": "markdown",
   "metadata": {},
   "source": [
    "- `border-{NUM}`\n",
    "\n",
    "    **NUM**: `1 2 3 4 5`"
   ]
  },
  {
   "attachments": {},
   "cell_type": "markdown",
   "metadata": {},
   "source": [
    "By the way, `border-1` happens to be the same size as just border.\n",
    "\n",
    "You can also combine these with the contextual colors or sizes, but they will affect all of the borders in the current element."
   ]
  },
  {
   "attachments": {},
   "cell_type": "markdown",
   "metadata": {},
   "source": [
    "- [**Try it**](codepens/Border-Width.html)"
   ]
  },
  {
   "attachments": {},
   "cell_type": "markdown",
   "metadata": {},
   "source": [
    "#### **_4. Border Radius_**"
   ]
  },
  {
   "attachments": {},
   "cell_type": "markdown",
   "metadata": {},
   "source": [
    "- `rounded`"
   ]
  },
  {
   "attachments": {},
   "cell_type": "markdown",
   "metadata": {},
   "source": [
    "- `rounded-{SIDE/SHAPE}`\n",
    "\n",
    "    **SIDE**: `top end bottom start` \n",
    "    \n",
    "    **SHAPE**: `circle pill`"
   ]
  },
  {
   "attachments": {},
   "cell_type": "markdown",
   "metadata": {},
   "source": [
    "- [**Try it**](codepens/Border-Radius.html)"
   ]
  },
  {
   "attachments": {},
   "cell_type": "markdown",
   "metadata": {},
   "source": [
    "#### **_5. Radius Sizes_**"
   ]
  },
  {
   "attachments": {},
   "cell_type": "markdown",
   "metadata": {},
   "source": [
    "If you want a little better control over the roundness of the edges you can use these sizes right here."
   ]
  },
  {
   "attachments": {},
   "cell_type": "markdown",
   "metadata": {},
   "source": [
    "- `rounded-{NUM}`\n",
    "\n",
    "    **NUM**: `0 1 2 3`"
   ]
  },
  {
   "attachments": {},
   "cell_type": "markdown",
   "metadata": {},
   "source": [
    "`rounded-0` is the same as **not adding rounded**, `rounded-1` is **slightly smaller roundness than just using the rounded class** and `rounded-3` is **slightly bigger**."
   ]
  },
  {
   "attachments": {},
   "cell_type": "markdown",
   "metadata": {},
   "source": [
    "- [**Try it**](codepens/Rounded-Edges.html)"
   ]
  },
  {
   "attachments": {},
   "cell_type": "markdown",
   "metadata": {},
   "source": [
    "#### **_6. Shadows_**"
   ]
  },
  {
   "attachments": {},
   "cell_type": "markdown",
   "metadata": {},
   "source": [
    "There are four shadow classes. You can just use the `shadow` keyword or **add a modifier**."
   ]
  },
  {
   "attachments": {},
   "cell_type": "markdown",
   "metadata": {},
   "source": [
    "- `shadow`"
   ]
  },
  {
   "attachments": {},
   "cell_type": "markdown",
   "metadata": {},
   "source": [
    "- `shadow-{SIZ}`\n",
    "\n",
    "    **SIZ**: `none sm lg`"
   ]
  },
  {
   "attachments": {},
   "cell_type": "markdown",
   "metadata": {},
   "source": [
    "The `none` keyword is **an override** and we can use it to **turn the shadow off an existing element**.\n",
    "\n",
    "There is a small(`sm`) shadow and a large(`lg`) shadow. The regular `shadow` is in between these."
   ]
  },
  {
   "attachments": {},
   "cell_type": "markdown",
   "metadata": {},
   "source": [
    "- [**Try it**](codepens/Shadows.html)"
   ]
  },
  {
   "attachments": {},
   "cell_type": "markdown",
   "metadata": {},
   "source": [
    "## [Sizes and Ratios](go.raybo.org/4AFj)"
   ]
  },
  {
   "attachments": {},
   "cell_type": "markdown",
   "metadata": {},
   "source": [
    "Some classes will help you size or fit an element to specific proportions."
   ]
  },
  {
   "attachments": {},
   "cell_type": "markdown",
   "metadata": {},
   "source": [
    "1. Width\n",
    "2. Height\n",
    "3. Aspect Ratios"
   ]
  },
  {
   "attachments": {},
   "cell_type": "markdown",
   "metadata": {},
   "source": [
    "#### **_1. Width_**"
   ]
  },
  {
   "attachments": {},
   "cell_type": "markdown",
   "metadata": {},
   "source": [
    "Here are the classes that help you control the width of an item."
   ]
  },
  {
   "attachments": {},
   "cell_type": "markdown",
   "metadata": {},
   "source": [
    "- `w-{TYP}`\n",
    "\n",
    "    **TYP**: `25 50 75 100 auto mw-100 vw-100`"
   ]
  },
  {
   "attachments": {},
   "cell_type": "markdown",
   "metadata": {},
   "source": [
    "The first few let you **change the width of an item to a percentage of the width of the container**.\n",
    "\n",
    "`auto` will try to **match the width of the container**.\n",
    "\n",
    "`mw-100` will try to be **a maximum of 100% of the width of the container**. Notice that if I make the container bigger, it will revert to 100% width\n",
    "\n",
    "`vw-100` tries to **match the width of the viewport**...most of the time, the browser window."
   ]
  },
  {
   "attachments": {},
   "cell_type": "markdown",
   "metadata": {},
   "source": [
    "- [**Try it**](codepens/Width.html)"
   ]
  },
  {
   "attachments": {},
   "cell_type": "markdown",
   "metadata": {},
   "source": [
    "#### **_2. Height_**"
   ]
  },
  {
   "attachments": {},
   "cell_type": "markdown",
   "metadata": {},
   "source": [
    "Similarly there are ways to control the height that correspond to the most common CSS heights."
   ]
  },
  {
   "attachments": {},
   "cell_type": "markdown",
   "metadata": {},
   "source": [
    "- `h-{TYP}`\n",
    "\n",
    "    **TYP**: `25 50 75 100 auto mh-100 vh-100`"
   ]
  },
  {
   "attachments": {},
   "cell_type": "markdown",
   "metadata": {},
   "source": [
    "The first few will try to **make an element a percentage of the height of the container**...as long as the container _has a height_.\n",
    "\n",
    "`mh-100` will **set the maximum height of an element to 100% of the height of the container**.\n",
    "\n",
    "`vh-100` will attempt to **make the element match the height of the viewport**. This is usually the height of the browser window.\n",
    "\n",
    "`auto` will try to **make the element have a natural height**. Notice that if I take the `vh-100` height off, then they go back to an automatic height."
   ]
  },
  {
   "attachments": {},
   "cell_type": "markdown",
   "metadata": {},
   "source": [
    "- [**Try it**](codepens/Height.html)"
   ]
  },
  {
   "attachments": {},
   "cell_type": "markdown",
   "metadata": {},
   "source": [
    "Height is probably one of the most unpredictable measurements in HTML and the source of frustration. It's not Bootstrap being weird. It's CSS being weird.\n",
    "\n",
    "Notice that if I take the `vh-100`, then the height of the percentages goes away.\n",
    "\n",
    "Also, if I change the display type of the element with h-100 then the element tries to match the height of the parent."
   ]
  },
  {
   "attachments": {},
   "cell_type": "markdown",
   "metadata": {},
   "source": [
    "#### **_3. Aspect Ratios_**"
   ]
  },
  {
   "attachments": {},
   "cell_type": "markdown",
   "metadata": {},
   "source": [
    "There are some aspect ratio classes to help with setting the proportions of elements. These are designed to go in a container class that wraps elements like `<iframe>`, `<embed>`, `<video>`, `<object>`, but will work with other elements like `<div>` or `<img>`."
   ]
  },
  {
   "attachments": {},
   "cell_type": "markdown",
   "metadata": {},
   "source": [
    "- `ratio`"
   ]
  },
  {
   "attachments": {},
   "cell_type": "markdown",
   "metadata": {},
   "source": [
    "- `ratio-{VAL}`\n",
    "\n",
    "    **VAL**: `1x1 4x3 16x9 21x9`"
   ]
  },
  {
   "attachments": {},
   "cell_type": "markdown",
   "metadata": {},
   "source": [
    "- [**Try it**](codepens/Responsive-Classes.html)"
   ]
  },
  {
   "attachments": {},
   "cell_type": "markdown",
   "metadata": {},
   "source": [
    "## [Interactivity Classes](go.raybo.org/4AG7)"
   ]
  },
  {
   "attachments": {},
   "cell_type": "markdown",
   "metadata": {},
   "source": [
    "There are a few other classes related to how Bootstrap deals with certain interactive elements. Let's take a look."
   ]
  },
  {
   "attachments": {},
   "cell_type": "markdown",
   "metadata": {},
   "source": [
    "1. Overflow\n",
    "2. Stretched Link\n",
    "3. User Select\n",
    "4. Pointer Events"
   ]
  },
  {
   "attachments": {},
   "cell_type": "markdown",
   "metadata": {},
   "source": [
    "#### **_1. Overflow_**"
   ]
  },
  {
   "attachments": {},
   "cell_type": "markdown",
   "metadata": {},
   "source": [
    "There are some classes that help you control what happens when text is longer than the space alloted to it."
   ]
  },
  {
   "attachments": {},
   "cell_type": "markdown",
   "metadata": {},
   "source": [
    "- `overflow-{TYP}`*\n",
    "\n",
    "    **TYP**: `auto hidden visible scroll`"
   ]
  },
  {
   "attachments": {},
   "cell_type": "markdown",
   "metadata": {},
   "source": [
    "`overflow-auto`: is the default and will **show scrollbars**\n",
    "\n",
    "`overflow-hidden`: **hides the extra content**\n",
    "\n",
    "`overflow-visible`: lets the **content overflow**\n",
    "\n",
    "`overflow-scroll`: **displays the scrollbars by default**"
   ]
  },
  {
   "attachments": {},
   "cell_type": "markdown",
   "metadata": {},
   "source": [
    "- [**Try it**](codepens/Overflow.html)"
   ]
  },
  {
   "attachments": {},
   "cell_type": "markdown",
   "metadata": {},
   "source": [
    "#### **_2. Stretched Link_**"
   ]
  },
  {
   "attachments": {},
   "cell_type": "markdown",
   "metadata": {},
   "source": [
    "This is one my favorite bootstrap classes. It will **make the entire container of an element with a link clickable**, which makes it easier to write code. It's magical."
   ]
  },
  {
   "attachments": {},
   "cell_type": "markdown",
   "metadata": {},
   "source": [
    "- `stretched-link`"
   ]
  },
  {
   "attachments": {},
   "cell_type": "markdown",
   "metadata": {},
   "source": [
    "- [**Try it**](codepens/Stretched-Links.html)"
   ]
  },
  {
   "attachments": {},
   "cell_type": "markdown",
   "metadata": {},
   "source": [
    "#### **_3. User Select_**"
   ]
  },
  {
   "attachments": {},
   "cell_type": "markdown",
   "metadata": {},
   "source": [
    "User select is a great utility class that **lets you control how selection works in an element**. There are three options."
   ]
  },
  {
   "attachments": {},
   "cell_type": "markdown",
   "metadata": {},
   "source": [
    "- `user-select-{TYP}`\n",
    "\n",
    "    **TYP**: `auto all none`"
   ]
  },
  {
   "attachments": {},
   "cell_type": "markdown",
   "metadata": {},
   "source": [
    "`user-select-auto` is the default and **lets selection work normally**.\n",
    "\n",
    "`user-select-all` will **select the entire block of text when any part of the text is clicked on**. That's great if you need someone to copy some text quickly.\n",
    "\n",
    "`user-select-none` **prevents the user from selecting the text**."
   ]
  },
  {
   "attachments": {},
   "cell_type": "markdown",
   "metadata": {},
   "source": [
    "- [**Try it**](codepens/User-Select.html)"
   ]
  },
  {
   "attachments": {},
   "cell_type": "markdown",
   "metadata": {},
   "source": [
    "#### **_4. Pointer Events_**"
   ]
  },
  {
   "attachments": {},
   "cell_type": "markdown",
   "metadata": {},
   "source": [
    "There's a couple of classes you can use to turn clicking on or off individually to links."
   ]
  },
  {
   "attachments": {},
   "cell_type": "markdown",
   "metadata": {},
   "source": [
    "- `pe-{TYP}`\n",
    "\n",
    "    **TYP**: `none auto`"
   ]
  },
  {
   "attachments": {},
   "cell_type": "markdown",
   "metadata": {},
   "source": [
    "The `pe-none` class lets you **turn off clicking on a link**. To get it to work properly on assistive devices you should also add the `aria-disabled=\"true\"` property and the `tabindex=\"-1\"`.\n",
    "\n",
    "The `pe-auto` is the default, so you don't normally use this, but you can use it to **override an existing `pe-none` class**.\n",
    "\n",
    "Look in the example how I am adding a `pe-none` class to the div containing the link and then I'm overriding it with the `pe-auto` class."
   ]
  },
  {
   "attachments": {},
   "cell_type": "markdown",
   "metadata": {},
   "source": [
    "- [**Try it**](codepens/Pointer-Events.html)"
   ]
  },
  {
   "cell_type": "markdown",
   "metadata": {},
   "source": []
  }
 ],
 "metadata": {
  "language_info": {
   "name": "python"
  },
  "orig_nbformat": 4
 },
 "nbformat": 4,
 "nbformat_minor": 2
}
