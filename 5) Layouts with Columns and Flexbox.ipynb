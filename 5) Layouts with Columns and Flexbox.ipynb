{
 "cells": [
  {
   "attachments": {},
   "cell_type": "markdown",
   "metadata": {},
   "source": [
    "# <center>Layouts with Columns and Flexbox</center>"
   ]
  },
  {
   "attachments": {},
   "cell_type": "markdown",
   "metadata": {},
   "source": [
    "## [Grid Essentials](go.raybo.org/4AID)"
   ]
  },
  {
   "attachments": {},
   "cell_type": "markdown",
   "metadata": {},
   "source": [
    "Bootstrap's grid is designed around a responsive, 12 column system implemented through Flexbox. Let's take a look at how it works."
   ]
  },
  {
   "attachments": {},
   "cell_type": "markdown",
   "metadata": {},
   "source": [
    "1. The Basics\n",
    "2. Grid\n",
    "3. Container Metrics\n",
    "4. Practice"
   ]
  },
  {
   "attachments": {},
   "cell_type": "markdown",
   "metadata": {},
   "source": [
    "#### **_1. The Basics_**"
   ]
  },
  {
   "attachments": {},
   "cell_type": "markdown",
   "metadata": {},
   "source": [
    "- Container\n",
    "- Rows\n",
    "- Columns\n",
    "- Flexbox/CSS Grid\n",
    "\n",
    "The grid system has three main components. We discussed the container class at the top of this course. In addition to that there are row and column classes that help you set up the grid.\n",
    "\n",
    "There are also classes that relate to both flexbox and grid and you can combine these classes with the grid classes, but the grid is the main layout structure."
   ]
  },
  {
   "attachments": {},
   "cell_type": "markdown",
   "metadata": {},
   "source": [
    "#### **_2. Grid_**"
   ]
  },
  {
   "cell_type": "code",
   "execution_count": null,
   "metadata": {
    "vscode": {
     "languageId": "html"
    }
   },
   "outputs": [],
   "source": [
    "<div class=\"container\">\n",
    "    <div class=\"row\">\n",
    "      <div class=\"col\">Column One</div>\n",
    "      <div class=\"col\">Column Two</div>\n",
    "      <div class=\"col\">Column Three</div>\n",
    "    </div>\n",
    "</div>"
   ]
  },
  {
   "attachments": {},
   "cell_type": "markdown",
   "metadata": {},
   "source": [
    "You can see the main classes in action. The container sets up the grid, the rows prepare the columns for display and the columns hold the content."
   ]
  },
  {
   "attachments": {},
   "cell_type": "markdown",
   "metadata": {},
   "source": [
    "- [**Try it**](codepens/Containers-Rows-and-Cols.html)"
   ]
  },
  {
   "attachments": {},
   "cell_type": "markdown",
   "metadata": {},
   "source": [
    "#### **_3. Container Metrics_**"
   ]
  },
  {
   "attachments": {},
   "cell_type": "markdown",
   "metadata": {},
   "source": [
    "| Breakpoint   | Extra small<br><576px | Small<br>≥576px | Medium<br>≥768px | Large<br>≥992px | X-Large<br>≥1200px | XX-Large<br>≥1400px |\n",
    "|---------------|-------------|-------|--------|-------|---------|----------|\n",
    "| .container    | 100%        | 540px | 720px  | 960px | 1140px  | 1320px   |\n",
    "| .container-sm | 100%        | 540px | 720px  | 960px | 1140px  | 1320px   |\n",
    "| .container-md | 100%        | -     | 720px  | 960px | 1140px  | 1320px   |\n",
    "| .container-lg | 100%        | -     | -      | 960px | 1140px  | 1320px   |\n",
    "| .container-xl | 100%        | -     | -      | -     | 1140px  | 1320px   |\n",
    "| .container-xxl| 100%        | -     | -      | -     | -       | 1320px   |\n",
    "| .container-fluid | 100%     | -     | -      | -     | -       | -        |\n"
   ]
  },
  {
   "attachments": {},
   "cell_type": "markdown",
   "metadata": {},
   "source": [
    "Let's review the main container metrics. Specifically, you can see the grid breakpoints.\n",
    "\n",
    "The regular container class will be 100% of the width of the container minus a bit of space around the edges.\n",
    "\n",
    "Whenever your viewport reaches 576 pixels or greater, the content locks in to a width of 540 pixels. When the width reaches 768, then the width locks in at 720 pixels and so on and so forth.\n",
    "\n",
    "There's also a series of container classes for the different breakpoints. The difference is that the width stays at 100% of the width UNTIL the width reaches one of the breakpoints."
   ]
  },
  {
   "attachments": {},
   "cell_type": "markdown",
   "metadata": {},
   "source": [
    "- [**Try it**](codepens/Container.html)"
   ]
  },
  {
   "attachments": {},
   "cell_type": "markdown",
   "metadata": {},
   "source": [
    "#### **_4. Practice_**"
   ]
  },
  {
   "attachments": {},
   "cell_type": "markdown",
   "metadata": {},
   "source": [
    "1. Create a Hero Section\n",
    "2. Center Hero Text\n",
    "3. Put body copy in a container\n",
    "4. Practice positioning and display classes"
   ]
  },
  {
   "attachments": {},
   "cell_type": "markdown",
   "metadata": {},
   "source": [
    "- [**Practice here**](codepens/practice/grid-essentials.html)"
   ]
  },
  {
   "attachments": {},
   "cell_type": "markdown",
   "metadata": {},
   "source": [
    "- [**Sample solution**](codepens/Container-Sample-Finished.html)"
   ]
  },
  {
   "attachments": {},
   "cell_type": "markdown",
   "metadata": {},
   "source": [
    "## [Rows and Gutters](go.raybo.org/4AIF)"
   ]
  },
  {
   "attachments": {},
   "cell_type": "markdown",
   "metadata": {},
   "source": [
    "Rows are containers for columns, but they can do more and provide a good level of customization. Spacing between the rows can be controlled with gutters."
   ]
  },
  {
   "attachments": {},
   "cell_type": "markdown",
   "metadata": {},
   "source": [
    "1. Rows\n",
    "2. Row Gutters\n",
    "3. Row Columns"
   ]
  },
  {
   "attachments": {},
   "cell_type": "markdown",
   "metadata": {},
   "source": [
    "#### **_1. Rows_**"
   ]
  },
  {
   "attachments": {},
   "cell_type": "markdown",
   "metadata": {},
   "source": [
    "- Column Container\n",
    "- Negative Margins\n",
    "- Reset Grid"
   ]
  },
  {
   "attachments": {},
   "cell_type": "markdown",
   "metadata": {},
   "source": [
    "Rows are designed to be column containers\n",
    "\n",
    "If you're using a container, a bit of margin is added to each side of the containers, so that the content doesn't go all the way to the edge. The purpose of the rows is to get rid of this spacing by using negative margins.\n",
    "\n",
    "They will also reset the grid so that you get a new set of 12 units."
   ]
  },
  {
   "attachments": {},
   "cell_type": "markdown",
   "metadata": {},
   "source": [
    "- [**Try it**](codepens/Basic-Rows.html)"
   ]
  },
  {
   "attachments": {},
   "cell_type": "markdown",
   "metadata": {},
   "source": [
    "#### **_2. Row Gutters_**"
   ]
  },
  {
   "attachments": {},
   "cell_type": "markdown",
   "metadata": {},
   "source": [
    "Gutters start out at 1.5 rems or 24 pixels wide, but you can expand their spacing using a set of classes."
   ]
  },
  {
   "attachments": {},
   "cell_type": "markdown",
   "metadata": {},
   "source": [
    "- `g-{DIR}-{SIZ}`\n",
    "\n",
    "    - **DIR**: `x y`\n",
    "    - **SIZ**: `0 1 2 3 4 5`"
   ]
  },
  {
   "attachments": {},
   "cell_type": "markdown",
   "metadata": {},
   "source": [
    "- [**Try it**](codepens/Gutter.html)"
   ]
  },
  {
   "attachments": {},
   "cell_type": "markdown",
   "metadata": {},
   "source": [
    "#### **_3. Row Columns_**"
   ]
  },
  {
   "attachments": {},
   "cell_type": "markdown",
   "metadata": {},
   "source": [
    "There's an option to create an equidistant grid of elements easily using row column classes."
   ]
  },
  {
   "attachments": {},
   "cell_type": "markdown",
   "metadata": {},
   "source": [
    "- `row-cols-{SIZ}`\n",
    "\n",
    "    - **SIZ**: `1 2 3 4 5`"
   ]
  },
  {
   "attachments": {},
   "cell_type": "markdown",
   "metadata": {},
   "source": [
    "- [**Try it**](codepens/Rows-Column.html)"
   ]
  },
  {
   "attachments": {},
   "cell_type": "markdown",
   "metadata": {},
   "source": [
    "## [Columns](go.raybo.org/4AIw)"
   ]
  },
  {
   "attachments": {},
   "cell_type": "markdown",
   "metadata": {},
   "source": [
    "Columns are extremely flexible with responsive version."
   ]
  },
  {
   "attachments": {},
   "cell_type": "markdown",
   "metadata": {},
   "source": [
    "1. Features\n",
    "2. Column Options\n",
    "3. Reordering\n",
    "4. Offsetting"
   ]
  },
  {
   "attachments": {},
   "cell_type": "markdown",
   "metadata": {},
   "source": [
    "#### **_1. Features_**"
   ]
  },
  {
   "attachments": {},
   "cell_type": "markdown",
   "metadata": {},
   "source": [
    "- Align to Grid\n",
    "- Standalone\n",
    "- Use on content"
   ]
  },
  {
   "attachments": {},
   "cell_type": "markdown",
   "metadata": {},
   "source": [
    "The job of the column classes is to align items to Bootstrap's 12 column grid.\n",
    "\n",
    "You can use them without the row classes as well and with other classes like the margin or padding classes.\n",
    "\n",
    "You can even use them on content so if you have an image that you want to occupy a certain number of columns, you can add one of the column classes there as well."
   ]
  },
  {
   "attachments": {},
   "cell_type": "markdown",
   "metadata": {},
   "source": [
    "#### **_2. Column Options_**"
   ]
  },
  {
   "attachments": {},
   "cell_type": "markdown",
   "metadata": {},
   "source": [
    "Besides the automatic col class, you can specify a breakpoint as well as the number of columns that content should try to take.\n",
    "\n",
    "The column quantities should add to 12, if they run over, then the columns will wrap to another line."
   ]
  },
  {
   "attachments": {},
   "cell_type": "markdown",
   "metadata": {},
   "source": [
    "- `col-{BR}-{SIZ}`\n",
    "\n",
    "    - **BR**: `sm md lg xl xxl`\n",
    "    - **SIZ**: `1 2 3 4 5 6 7 8 9 10 11 12`"
   ]
  },
  {
   "attachments": {},
   "cell_type": "markdown",
   "metadata": {},
   "source": [
    "- [**Try it**](codepens/Responsive-Columns.html)"
   ]
  },
  {
   "attachments": {},
   "cell_type": "markdown",
   "metadata": {},
   "source": [
    "#### **_3. Reordering_**"
   ]
  },
  {
   "attachments": {},
   "cell_type": "markdown",
   "metadata": {},
   "source": [
    "You can reorder columns using responsive order classes."
   ]
  },
  {
   "attachments": {},
   "cell_type": "markdown",
   "metadata": {},
   "source": [
    "- `order-{BR}-{ORD}`\n",
    "\n",
    "    - **BR**: `sm md lg xl xxl`\n",
    "    - **ORD**: `1 2 3 4 5`"
   ]
  },
  {
   "attachments": {},
   "cell_type": "markdown",
   "metadata": {},
   "source": [
    "- [**Try it**](codepens/Reordering-Classes.html)"
   ]
  },
  {
   "attachments": {},
   "cell_type": "markdown",
   "metadata": {},
   "source": [
    "#### **_4. Offsetting_**"
   ]
  },
  {
   "attachments": {},
   "cell_type": "markdown",
   "metadata": {},
   "source": [
    "You can offset a column by a column width by using the offset classes."
   ]
  },
  {
   "attachments": {},
   "cell_type": "markdown",
   "metadata": {},
   "source": [
    "- `offset-{BR}-{POS}`\n",
    "\n",
    "    - **BR**: `sm md lg xl xxl`\n",
    "    - **POS**: `1 2 3 4 5 6 7 8 9 10 11`"
   ]
  },
  {
   "attachments": {},
   "cell_type": "markdown",
   "metadata": {},
   "source": [
    "- [**Try it**](codepens/Offset-Classes.html)"
   ]
  },
  {
   "attachments": {},
   "cell_type": "markdown",
   "metadata": {},
   "source": [
    "## [Flexbox](go.raybo.org/4AJ2)"
   ]
  },
  {
   "attachments": {},
   "cell_type": "markdown",
   "metadata": {},
   "source": [
    "Bootstrap uses flexbox for layout, so in addition to it's own grid system there are many classes you can use to create your page designs"
   ]
  },
  {
   "attachments": {},
   "cell_type": "markdown",
   "metadata": {},
   "source": [
    "1. Responsive\n",
    "2. Direction\n",
    "3. Justify Content\n",
    "4. Vertical Alignment"
   ]
  },
  {
   "attachments": {},
   "cell_type": "markdown",
   "metadata": {},
   "source": [
    "#### **_1. Responsive_**"
   ]
  },
  {
   "attachments": {},
   "cell_type": "markdown",
   "metadata": {},
   "source": [
    "The main class is `d-flex`, but there are responsive options.\n",
    "\n",
    "There's also an option to use the `inline` version of the display property. In that case the container will behave as an inline element."
   ]
  },
  {
   "attachments": {},
   "cell_type": "markdown",
   "metadata": {},
   "source": [
    "- `d{-BR}{-inline}-flex`\n",
    "\n",
    "    - **BR**: `sm md lg xl xxl`"
   ]
  },
  {
   "attachments": {},
   "cell_type": "markdown",
   "metadata": {},
   "source": [
    "- [**Try it**](codepens/Responsive-Flexbox.html)"
   ]
  },
  {
   "attachments": {},
   "cell_type": "markdown",
   "metadata": {},
   "source": [
    "#### **_2. Direction_**"
   ]
  },
  {
   "attachments": {},
   "cell_type": "markdown",
   "metadata": {},
   "source": [
    "The main class is `d-flex`, but there are responsive variants."
   ]
  },
  {
   "attachments": {},
   "cell_type": "markdown",
   "metadata": {},
   "source": [
    "- `flex-{BR}-{TYP}{-reverse}`\n",
    "\n",
    "    - **BR**: `sm md lg xl xxl`\n",
    "    - **TYP**: `row column`"
   ]
  },
  {
   "attachments": {},
   "cell_type": "markdown",
   "metadata": {},
   "source": [
    "`row` rows makes the direction change from vertical to horizontal\n",
    "\n",
    "`column`\n",
    "\n",
    "`reverse`"
   ]
  },
  {
   "attachments": {},
   "cell_type": "markdown",
   "metadata": {},
   "source": [
    "- [**Try it**](codepens/Flex-Direction.html)"
   ]
  },
  {
   "attachments": {},
   "cell_type": "markdown",
   "metadata": {},
   "source": [
    "#### **_3. Justify Content_**"
   ]
  },
  {
   "attachments": {},
   "cell_type": "markdown",
   "metadata": {},
   "source": [
    "Justify content aligns the content horizontally. You can specify breakpoints and then one of six different types."
   ]
  },
  {
   "attachments": {},
   "cell_type": "markdown",
   "metadata": {},
   "source": [
    "- `justify-content{-BR}-{TYP}`\n",
    "    \n",
    "    - **BR**: `sm md lg xl xxl`\n",
    "    - **TYP**: `start end center between around evenly`"
   ]
  },
  {
   "attachments": {},
   "cell_type": "markdown",
   "metadata": {},
   "source": [
    "`start` - Aligns the elements at the beginning\n",
    "\n",
    "`end` - Aligns the elements at the end\n",
    "\n",
    "`center` - Centers the elements horizontally\n",
    "\n",
    "`between` - puts space inside the elements to fit in the container\n",
    "\n",
    "`around` - puts the same space around each elements to fit in the container\n",
    "\n",
    "`evenly` - same as around, but makes the space in between elements be the same."
   ]
  },
  {
   "attachments": {},
   "cell_type": "markdown",
   "metadata": {},
   "source": [
    "- [**Try it**](codepens/Justify-Content.html)"
   ]
  },
  {
   "attachments": {},
   "cell_type": "markdown",
   "metadata": {},
   "source": [
    "#### **_4. Vertical Alignment_**"
   ]
  },
  {
   "attachments": {},
   "cell_type": "markdown",
   "metadata": {},
   "source": [
    "Align items takes care of things vertically."
   ]
  },
  {
   "attachments": {},
   "cell_type": "markdown",
   "metadata": {},
   "source": [
    "- `align-items{-BR}-{TYP}`\n",
    "\n",
    "    - **BR**: `sm md lg xl xxl`\n",
    "    - **TYP**: `start end center baseline stretch`"
   ]
  },
  {
   "attachments": {},
   "cell_type": "markdown",
   "metadata": {},
   "source": [
    "`align-items-start` - aligns the elements to the top\n",
    "\n",
    "`align-items-end` - aligns them to the bottom\n",
    "\n",
    "`align-items-center` -centers them vertically\n",
    "\n",
    "`align-items-baseline` - aligns the elements to their baseline. If the elements are the same size, it looks just like align-items-start\n",
    "\n",
    "`align-items-stretch` - stretches them to fit the space vertically."
   ]
  },
  {
   "attachments": {},
   "cell_type": "markdown",
   "metadata": {},
   "source": [
    "- [**Try it**](codepens/Align-Items.html)"
   ]
  },
  {
   "attachments": {},
   "cell_type": "markdown",
   "metadata": {},
   "source": [
    "## [Flexbox Content Fit](go.raybo.org/4AJE)"
   ]
  },
  {
   "attachments": {},
   "cell_type": "markdown",
   "metadata": {},
   "source": [
    "You can control how content fits in a flexbox layout."
   ]
  },
  {
   "attachments": {},
   "cell_type": "markdown",
   "metadata": {},
   "source": [
    "1. Align Self\n",
    "2. Flex Fill\n",
    "3. Flex Grow/Shrink"
   ]
  },
  {
   "attachments": {},
   "cell_type": "markdown",
   "metadata": {},
   "source": [
    "#### **_1. Align Self_**"
   ]
  },
  {
   "attachments": {},
   "cell_type": "markdown",
   "metadata": {},
   "source": [
    "- `align-self{-BR}-{TYP}`\n",
    "\n",
    "    - **BR**: `sm md lg xl xxl`\n",
    "    - **TYP**: `start end center baseline stretch`"
   ]
  },
  {
   "attachments": {},
   "cell_type": "markdown",
   "metadata": {},
   "source": [
    "This utility is for individual items inside flex containers and lets you control their alignment separate from what the others are doing."
   ]
  },
  {
   "attachments": {},
   "cell_type": "markdown",
   "metadata": {},
   "source": [
    "`align-items-start` - aligns the element to the top\n",
    "\n",
    "`align-items-end` - aligns it to the bottom\n",
    "\n",
    "`align-items-center` -centers it vertically\n",
    "\n",
    "`align-items-baseline` - aligns the element to its baseline. If you use this on two different elements, they will both try to align to their baselines\n",
    "\n",
    "`align-items-stretch` - stretches them to fit the space vertically."
   ]
  },
  {
   "attachments": {},
   "cell_type": "markdown",
   "metadata": {},
   "source": [
    "- [**Try it**](codepens/Align-Self.html)"
   ]
  },
  {
   "attachments": {},
   "cell_type": "markdown",
   "metadata": {},
   "source": [
    "#### **_2. Flex Fill_**"
   ]
  },
  {
   "attachments": {},
   "cell_type": "markdown",
   "metadata": {},
   "source": [
    "- `flex{-BR}-fill`\n",
    "\n",
    "    - **BR**: `sm md lg xl xxl`"
   ]
  },
  {
   "attachments": {},
   "cell_type": "markdown",
   "metadata": {},
   "source": [
    "This utility makes one or more individual elements try to take up the available horizontal space if possible. If there are more than one elements with flex-fill, then they'll share all of the available space."
   ]
  },
  {
   "attachments": {},
   "cell_type": "markdown",
   "metadata": {},
   "source": [
    "- [**Try it**](codepens/Flex-Fill.html)"
   ]
  },
  {
   "attachments": {},
   "cell_type": "markdown",
   "metadata": {},
   "source": [
    "#### **_3. Flex Grow/Shrink_**"
   ]
  },
  {
   "attachments": {},
   "cell_type": "markdown",
   "metadata": {},
   "source": [
    "- `flex{-BR}{-TYP}{-BOOL}`\n",
    "\n",
    "    - **BR**: `sm md lg xl xxl`\n",
    "    - **TYP**: `grow shrink`\n",
    "    - **BOOL**: `0 1`"
   ]
  },
  {
   "attachments": {},
   "cell_type": "markdown",
   "metadata": {},
   "source": [
    "This is similar to flex fill but with the ability to toggle on or off through some classes.\n",
    "\n",
    "You can specify that an item try to grow to fill the available space with grow or shrink\n",
    "\n",
    "There are two classes that either turn this ability off (0) or on (1)\n",
    "\n",
    "In the example you can see that flex grow 1 works just like flex fill. If you change the class to 0, it will change turn this off.\n",
    "\n",
    "In the example for flex-shrink notice that the other two cells use a flex-grow-1, but they also try to take up 50% of the width of the container. In that case flex-shrink will try to take up as little space as is reasonable."
   ]
  },
  {
   "attachments": {},
   "cell_type": "markdown",
   "metadata": {},
   "source": [
    "- [**Try it**](codepens/Flex-Grow-Shrink.html)"
   ]
  },
  {
   "attachments": {},
   "cell_type": "markdown",
   "metadata": {},
   "source": [
    "## [Flexbox Organization](go.raybo.org/4AJF)"
   ]
  },
  {
   "attachments": {},
   "cell_type": "markdown",
   "metadata": {},
   "source": [
    "Certain flex classes help you organize the content within."
   ]
  },
  {
   "attachments": {},
   "cell_type": "markdown",
   "metadata": {},
   "source": [
    "1. Flex Wrap\n",
    "2. Order\n",
    "3. Align Content"
   ]
  },
  {
   "attachments": {},
   "cell_type": "markdown",
   "metadata": {},
   "source": [
    "#### **_1. Flex Wrap_**"
   ]
  },
  {
   "attachments": {},
   "cell_type": "markdown",
   "metadata": {},
   "source": [
    "- `flex{-BR}{-TYP}{-reverse}`\n",
    "\n",
    "    - **BR**: `sm md lg xl xxl`\n",
    "    - **TYP**: `wrap nowrap`"
   ]
  },
  {
   "attachments": {},
   "cell_type": "markdown",
   "metadata": {},
   "source": [
    "This is similar to flex fill but with the ability to toggle on or off through some classes.\n",
    "\n",
    "`wrap` - Wrap will cause the elements to wrap to a new line if the container is a certain width\n",
    "\n",
    "`nowrap` - causes the elements to ignore the size of the container and refuse to wrap the elements. This is the default\n",
    "\n",
    "The `reverse` option reverses the order of the elements."
   ]
  },
  {
   "attachments": {},
   "cell_type": "markdown",
   "metadata": {},
   "source": [
    "- [**Try it**](codepens/Flex-Wrap.html)"
   ]
  },
  {
   "attachments": {},
   "cell_type": "markdown",
   "metadata": {},
   "source": [
    "#### **_2. Order_**"
   ]
  },
  {
   "cell_type": "markdown",
   "metadata": {},
   "source": [
    "- `order{-BR}{-AMT}`\n",
    "\n",
    "    - **BR**: `sm md lg xl xxl`\n",
    "    - **AMT**: `first 0 1 2 3 4 5 last`"
   ]
  },
  {
   "attachments": {},
   "cell_type": "markdown",
   "metadata": {},
   "source": [
    "The order classes let you reorder elements differently than in their natural order. They act more like horizontal layers, so if we have two elements with an order of last, they will be drawn next to each other with the one that is coded first in the first position. You can use these classes to re-order items."
   ]
  },
  {
   "attachments": {},
   "cell_type": "markdown",
   "metadata": {},
   "source": [
    "- [**Try it**](codepens/Order.html)"
   ]
  },
  {
   "attachments": {},
   "cell_type": "markdown",
   "metadata": {},
   "source": [
    "#### **_3. Align Content_**"
   ]
  },
  {
   "attachments": {},
   "cell_type": "markdown",
   "metadata": {},
   "source": [
    "- `align-content{-BR}{-TYP}`\n",
    "\n",
    "    - **BR**: `sm md lg xl xxl`\n",
    "    - **TYP**: `start end center between around stretch`"
   ]
  },
  {
   "attachments": {},
   "cell_type": "markdown",
   "metadata": {},
   "source": [
    "Align content lets you align elements that are wrapping in different in the cross axis...normally vertically.\n",
    "\n",
    "`start` - puts them at the beginning\n",
    "\n",
    "`end` - places the items towards the end of the container\n",
    "\n",
    "`center` - centers them within the container\n",
    "\n",
    "`between` - pushes the items flush with the edges\n",
    "\n",
    "`around` - puts equal amounts of space around the items\n",
    "\n",
    "`stretch` - stretches the items to fit the available space in the containers."
   ]
  },
  {
   "attachments": {},
   "cell_type": "markdown",
   "metadata": {},
   "source": [
    "- [**Try it**](codepens/Align-Content.html)"
   ]
  },
  {
   "cell_type": "markdown",
   "metadata": {},
   "source": []
  }
 ],
 "metadata": {
  "language_info": {
   "name": "python"
  },
  "orig_nbformat": 4
 },
 "nbformat": 4,
 "nbformat_minor": 2
}
