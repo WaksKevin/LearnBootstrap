{
 "cells": [
  {
   "attachments": {},
   "cell_type": "markdown",
   "metadata": {},
   "source": [
    "# <center>Layout Components</center>"
   ]
  },
  {
   "attachments": {},
   "cell_type": "markdown",
   "metadata": {},
   "source": [
    "## [Buttons](https://go.raybo.org/4AJB)"
   ]
  },
  {
   "attachments": {},
   "cell_type": "markdown",
   "metadata": {},
   "source": [
    "There are rich classes for handling the look and feel of buttons."
   ]
  },
  {
   "attachments": {},
   "cell_type": "markdown",
   "metadata": {},
   "source": [
    "1. Buttons\n",
    "2. Contextual Buttons\n",
    "3. Sizes\n",
    "4. Button Groups"
   ]
  },
  {
   "attachments": {},
   "cell_type": "markdown",
   "metadata": {},
   "source": [
    "#### **_1. Buttons_**"
   ]
  },
  {
   "attachments": {},
   "cell_type": "markdown",
   "metadata": {},
   "source": [
    "- `btn`: basic class\n",
    "- Apply to: `button`, `a` or `input`\n",
    "\n",
    "    - `role=\"button\"` on `a`\n",
    "    - `type=\"button\"` on `input` or `button`"
   ]
  },
  {
   "attachments": {},
   "cell_type": "markdown",
   "metadata": {},
   "source": [
    "The basic button class is the `btn` class. It can be applied to either buttons, anchor tags or input fields.\n",
    "\n",
    "If you're using `btn` on an anchor(`a`) tag, you should add the `role=\"button\"` property for assistive devices.\n",
    "\n",
    "If you're using `btn` on a `button` or `input`, you should add the `type=\"button\"` property."
   ]
  },
  {
   "attachments": {},
   "cell_type": "markdown",
   "metadata": {},
   "source": [
    "#### **_2. Contextual Buttons_**"
   ]
  },
  {
   "attachments": {},
   "cell_type": "markdown",
   "metadata": {},
   "source": [
    "- `btn{-outline}{-TYP}`\n",
    "\n",
    "    - **BR**: `primary secondary success danger warning info light dark link`"
   ]
  },
  {
   "attachments": {},
   "cell_type": "markdown",
   "metadata": {},
   "source": [
    "In addition to the `btn` class, you add one contextual color class to your buttons.\n",
    "\n",
    "There is a special `btn-link` class that makes the button look like a regular link, but **still takes up the space of a button**.\n",
    "\n",
    "There is also an outline version of the buttons you can use by adding the `outline` keyword"
   ]
  },
  {
   "attachments": {},
   "cell_type": "markdown",
   "metadata": {},
   "source": [
    "- [**Try it**](codepens/Button-Classes.html)"
   ]
  },
  {
   "attachments": {},
   "cell_type": "markdown",
   "metadata": {},
   "source": [
    "#### **_3. Sizes_**"
   ]
  },
  {
   "attachments": {},
   "cell_type": "markdown",
   "metadata": {},
   "source": [
    "- `btn-{SIZ}`\n",
    "\n",
    "    - **SIZ**: `sm lg`"
   ]
  },
  {
   "attachments": {},
   "cell_type": "markdown",
   "metadata": {},
   "source": [
    "There are three sizes for buttons. A small, a large size and then the regular size of the buttons."
   ]
  },
  {
   "attachments": {},
   "cell_type": "markdown",
   "metadata": {},
   "source": [
    "- [**Try it**](codepens/Button-Sizes.html)"
   ]
  },
  {
   "attachments": {},
   "cell_type": "markdown",
   "metadata": {},
   "source": [
    "#### **_4. Button Groups_**"
   ]
  },
  {
   "attachments": {},
   "cell_type": "markdown",
   "metadata": {},
   "source": [
    "- **Button Group**: `btn-group btn-group-vertical`\n",
    "\n",
    "- **Variation**: `btn-group-sm btn-group-lg`\n",
    "\n",
    "- **Checkboxes/Radio**: `btn-check`"
   ]
  },
  {
   "attachments": {},
   "cell_type": "markdown",
   "metadata": {},
   "source": [
    "Button groups give you a way to put buttons together. The basic class is a container that goes around the buttons you want to group. You can either choose a regular or a vertical version of this class.\n",
    "\n",
    "There is a different style if you add the `active` class that works really well for outlines.\n",
    "\n",
    "There are some different variations you can use like the two sizing classes. These go on the same container that have the `btn-group` class.\n",
    "\n",
    "There is also a class for making the buttons stack on top of one another called `btn-group-vertical`\n",
    "\n",
    "There's another real interesting class called `btn-check` that will really help to make checkboxes or radio input fields look like buttons, but behave in their normal manner as long as they're coded properly."
   ]
  },
  {
   "attachments": {},
   "cell_type": "markdown",
   "metadata": {},
   "source": [
    "- [**Try it**](codepens/Button-Groups.html)"
   ]
  },
  {
   "attachments": {},
   "cell_type": "markdown",
   "metadata": {},
   "source": [
    "## [Nav](https://go.raybo.org/4AJD)"
   ]
  },
  {
   "attachments": {},
   "cell_type": "markdown",
   "metadata": {},
   "source": [
    "There is a set of nav classes for building different types of navigation. It's meant for simpler navigation that's not navivation bar."
   ]
  },
  {
   "attachments": {},
   "cell_type": "markdown",
   "metadata": {},
   "source": [
    "1. Basic\n",
    "2. Nav\n",
    "3. Nav Styles\n",
    "4. Nav Alignment"
   ]
  },
  {
   "attachments": {},
   "cell_type": "markdown",
   "metadata": {},
   "source": [
    "#### **_1. Basic_**"
   ]
  },
  {
   "attachments": {},
   "cell_type": "markdown",
   "metadata": {},
   "source": [
    "- Lists, no lists, or `nav` tag\n",
    "- Special assistive tags\n",
    "- Align with flexbox"
   ]
  },
  {
   "attachments": {},
   "cell_type": "markdown",
   "metadata": {},
   "source": [
    "The basic nav class doesn't have special styling for the active states like some of the classes we'll see later. You can use them with ordered or unordered lists or regular divs and anchors. My favorite way is to use the nav tag with the nav class.\n",
    "\n",
    "You need to include assistive technology tags to convey their functionality.\n",
    "\n",
    "These are aligned using flexbox classes"
   ]
  },
  {
   "attachments": {},
   "cell_type": "markdown",
   "metadata": {},
   "source": [
    "#### **_2. Nav_**"
   ]
  },
  {
   "attachments": {},
   "cell_type": "markdown",
   "metadata": {},
   "source": [
    "- `nav nav-item nav-link`"
   ]
  },
  {
   "attachments": {},
   "cell_type": "markdown",
   "metadata": {},
   "source": [
    "`nav` - This is the main container for the nav items.\n",
    "\n",
    "`nav-item` - Each item inside navigation should have a nav-item class. In the case of list based navs, this should be in the `li` tag. You can omit this class if you're using the `nav` tag.\n",
    "\n",
    "`nav-link` - This should be attached to the anchor tag link."
   ]
  },
  {
   "attachments": {},
   "cell_type": "markdown",
   "metadata": {},
   "source": [
    "- [**Try it**](codepens/Nav.html)"
   ]
  },
  {
   "attachments": {},
   "cell_type": "markdown",
   "metadata": {},
   "source": [
    "#### **_3. Nav_Styles_**"
   ]
  },
  {
   "attachments": {},
   "cell_type": "markdown",
   "metadata": {},
   "source": [
    "- `nav-tabs nav-pills`"
   ]
  },
  {
   "attachments": {},
   "cell_type": "markdown",
   "metadata": {},
   "source": [
    "`nav-tabs` - styles the links to look like tabs with the active class having a different look.\n",
    "\n",
    "`nav-pills` - makes the active items look more like a button\n",
    "\n",
    "You can use background and color classes to change the colors"
   ]
  },
  {
   "attachments": {},
   "cell_type": "markdown",
   "metadata": {},
   "source": [
    "- [**Try it**](codepens/Nav-Styles.html)"
   ]
  },
  {
   "attachments": {},
   "cell_type": "markdown",
   "metadata": {},
   "source": [
    "#### **_4. Nav Alignment_**"
   ]
  },
  {
   "attachments": {},
   "cell_type": "markdown",
   "metadata": {},
   "source": [
    "- `nav-fill nav-justified`\n",
    "\n",
    "- Or flexbox classes"
   ]
  },
  {
   "attachments": {},
   "cell_type": "markdown",
   "metadata": {},
   "source": [
    "`nav-fill` - Fills up the horizontal space of the container while giving the buttons the space they need to fit.\n",
    "\n",
    "`nav-justified` - Similar to nav-fill, but makes each button take up the same amount of space.\n",
    "\n",
    "You can also use flexbox classes to achieve any desired effects."
   ]
  },
  {
   "attachments": {},
   "cell_type": "markdown",
   "metadata": {},
   "source": [
    "- [**Try it**](codepens/Nav-Alignment.html)"
   ]
  },
  {
   "attachments": {},
   "cell_type": "markdown",
   "metadata": {},
   "source": [
    "## [Navbar](https://go.raybo.org/4AJG)"
   ]
  },
  {
   "attachments": {},
   "cell_type": "markdown",
   "metadata": {},
   "source": [
    "Navbars are for building the main navigation items. they're related to navs, but with a lot more options."
   ]
  },
  {
   "attachments": {},
   "cell_type": "markdown",
   "metadata": {},
   "source": [
    "1. Basic Navbar\n",
    "2. Inside Navbar\n",
    "3. Special Content\n",
    "4. Navbar Collapse"
   ]
  },
  {
   "attachments": {},
   "cell_type": "markdown",
   "metadata": {},
   "source": [
    "#### **_1. Basic Navbar_**"
   ]
  },
  {
   "attachments": {},
   "cell_type": "markdown",
   "metadata": {},
   "source": [
    "- `nav class=\"navbar\"`\n",
    "\n",
    "    - `bg-{COL}`\n",
    "        - **COL**: `primary secondary success danger warning info light dark white`\n",
    "    - `navbar-{COL}`\n",
    "        - **COL**: `light dark`\n",
    "    - `navbar-expand-{BR}`\n",
    "        - **BR**: `sm md lg xl xxl`"
   ]
  },
  {
   "attachments": {},
   "cell_type": "markdown",
   "metadata": {},
   "source": [
    "Navbars are pretty complicated. they begin with a nav tag that has the `navbar` class. Although you could use something other than a `nav`, it's really the proper tag for a navbar.\n",
    "\n",
    "Usually navbars get a couple of classes that identify the color of the background, which is a regular `bg-{COL}` item as well as a class that identifies whether the navigation's background is light or dark `navbar-{light|dark}`.\n",
    "\n",
    "Navbars are responsive by default, so they will stack on top of one another. You can add a `navbar-expand-{BR}` which will expand the links into a horizontal section at a specific breakpoint.\n",
    "\n",
    "You usually want a nav to cover the entire width of the browser or align to the grid...at least in certain parts, so there's usually a container involved.\n",
    "\n",
    "Finally, there is a `navbar-nav` section, which is where your links go."
   ]
  },
  {
   "attachments": {},
   "cell_type": "markdown",
   "metadata": {},
   "source": [
    "#### **_2. Inside Navbar_**"
   ]
  },
  {
   "attachments": {},
   "cell_type": "markdown",
   "metadata": {},
   "source": [
    "- `container{-BR}`\n",
    "\n",
    "    - **BR**: `sm md lg xl xxl fluid`\n",
    "<br><br>\n",
    "- `navbar-nav`\n",
    "\n",
    "    - `nav-item nav-link`"
   ]
  },
  {
   "attachments": {},
   "cell_type": "markdown",
   "metadata": {},
   "source": [
    "`navbar-nav` - section is a series of links, which can go on list items with anchor tags or just anchor tags.\n",
    "\n",
    "`nav-item` - identifies each navigation item, can go in a list item or an anchor tag\n",
    "\n",
    "`nav-link` - identifies the link in an anchor tag."
   ]
  },
  {
   "attachments": {},
   "cell_type": "markdown",
   "metadata": {},
   "source": [
    "- [**Try it**](codepens/Navbar.html)"
   ]
  },
  {
   "attachments": {},
   "cell_type": "markdown",
   "metadata": {},
   "source": [
    "#### **_3. Special Content_**"
   ]
  },
  {
   "attachments": {},
   "cell_type": "markdown",
   "metadata": {},
   "source": [
    "- `navbar-brand`\n",
    "\n",
    "- `nav-text`"
   ]
  },
  {
   "attachments": {},
   "cell_type": "markdown",
   "metadata": {},
   "source": [
    "`navbar-brand` - Allows you to place branding as a separate element on the form.\n",
    "\n",
    "`nav-text` - Lets you do some text aligned properly to the form.\n",
    "\n",
    "You can also include other elements, so for example a form element is a pretty common thing to add."
   ]
  },
  {
   "attachments": {},
   "cell_type": "markdown",
   "metadata": {},
   "source": [
    "- [**Try it**](codepens/Navbar-Items.html)"
   ]
  },
  {
   "attachments": {},
   "cell_type": "markdown",
   "metadata": {},
   "source": [
    "#### **_4. Navbar Collapse_**"
   ]
  },
  {
   "attachments": {},
   "cell_type": "markdown",
   "metadata": {},
   "source": [
    "- `navbar-toggler`\n",
    "\n",
    "    - `navbar-toggler-icon`<br><br>\n",
    "\n",
    "- `collapse navbar-collapse id`\n",
    "\n",
    "- `navbar-nav-scroll`"
   ]
  },
  {
   "attachments": {},
   "cell_type": "markdown",
   "metadata": {},
   "source": [
    "Navbars can get long quickly, so Bootstrap provides an option to collapse items into hamburger menu at before the navbar-expand{-BR} breakpoint.\n",
    "\n",
    "To do this, you'll need to add a button that triggers the menu\n",
    "\n",
    "`navbar-toggler` - is the button that activates the dropdown. It gets a `data-bs-toggle=\"collapse\"` and it needs a `data-bs-target` with the ID of the element that's going to be collapsed.\n",
    "\n",
    "`collapse navbar-collapse` - These two classes are wrappers around the content that you want collapsed. They usually wrap the navbar-nav.\n",
    "\n",
    "`navbar-toggler-icon` - The hamburger menu lives in the `navbar-toggler-icon` class\n",
    "\n",
    "`navbar-nav-scroll` - There is an optional class that lets you determine the height of the items, just in case your menu gets a bit long for a mobile device."
   ]
  },
  {
   "attachments": {},
   "cell_type": "markdown",
   "metadata": {},
   "source": [
    "- [**Try it**](codepens/Navbar-Collapse.html)"
   ]
  },
  {
   "attachments": {},
   "cell_type": "markdown",
   "metadata": {},
   "source": [
    "## [Cards](https://go.raybo.org/4AJC)"
   ]
  },
  {
   "attachments": {},
   "cell_type": "markdown",
   "metadata": {},
   "source": [
    "Cards are a special component that is incredibly flexible."
   ]
  },
  {
   "attachments": {},
   "cell_type": "markdown",
   "metadata": {},
   "source": [
    "1. Basic\n",
    "2. Card Images\n",
    "3. Card Layouts"
   ]
  },
  {
   "attachments": {},
   "cell_type": "markdown",
   "metadata": {},
   "source": [
    "#### **_1. Basic_**"
   ]
  },
  {
   "attachments": {},
   "cell_type": "markdown",
   "metadata": {},
   "source": [
    "- `card`\n",
    "\n",
    "    - `card-header card-footer card-body card-img`<br><br>\n",
    "\n",
    "- `card-body`\n",
    "\n",
    "    - `card-title card-subtitle card-text card-link`"
   ]
  },
  {
   "attachments": {},
   "cell_type": "markdown",
   "metadata": {},
   "source": [
    "There's a main card container class and then there are a number of structural cards that help elements fit properly inside the card. Cards don't have a set size, so unless you size them manually or with other classes, they'll take up the entire width of the container.\n",
    "\n",
    "The main set of classes are header, footer, body and image. There are actually multiple types of image classes so we'll get back to that one.\n",
    "\n",
    "Inside the body class, you can include a number of classes that will help elements have the proper spacing inside the body container."
   ]
  },
  {
   "attachments": {},
   "cell_type": "markdown",
   "metadata": {},
   "source": [
    "- [**Try it**](codepens/Cards.html)"
   ]
  },
  {
   "attachments": {},
   "cell_type": "markdown",
   "metadata": {},
   "source": [
    "#### **_2. Card Images_**"
   ]
  },
  {
   "attachments": {},
   "cell_type": "markdown",
   "metadata": {},
   "source": [
    "- `card-img{-TYP}`\n",
    "\n",
    "    - **TYP**: `top bottom overlay`"
   ]
  },
  {
   "attachments": {},
   "cell_type": "markdown",
   "metadata": {},
   "source": [
    "There are a few classes that can help with image placement. Images are drawn as being part of the borders.\n",
    "\n",
    "`card-img-overlay` - The overlay class is special in that it allows you to place the content inside the container.\n",
    "\n",
    "`card-img` - In the case of the overlay class, you use a regular card-img class instead of the top or bottom classes."
   ]
  },
  {
   "attachments": {},
   "cell_type": "markdown",
   "metadata": {},
   "source": [
    "- [**Try it**](codepens/Card-Images.html)"
   ]
  },
  {
   "attachments": {},
   "cell_type": "markdown",
   "metadata": {},
   "source": [
    "#### **_3. Card Layouts_**"
   ]
  },
  {
   "attachments": {},
   "cell_type": "markdown",
   "metadata": {},
   "source": [
    "- `card-group`"
   ]
  },
  {
   "attachments": {},
   "cell_type": "markdown",
   "metadata": {},
   "source": [
    "Shockingly enough, there's only one special layout class for cards and that's the card group. It makes cards share a border horizontally.\n",
    "\n",
    "To create different types of layouts you simply use any of the existing layout classes like the grid or flexbox.\n",
    "\n",
    "And that's also true for the types of things you can add to or include in cards."
   ]
  },
  {
   "attachments": {},
   "cell_type": "markdown",
   "metadata": {},
   "source": [
    "- [**Try it**](codepens/Card-Layout.html)"
   ]
  },
  {
   "attachments": {},
   "cell_type": "markdown",
   "metadata": {},
   "source": [
    "## [Pagination]()"
   ]
  },
  {
   "attachments": {},
   "cell_type": "markdown",
   "metadata": {},
   "source": [
    "## [Progress]()"
   ]
  },
  {
   "attachments": {},
   "cell_type": "markdown",
   "metadata": {},
   "source": [
    "## [Spinner]()"
   ]
  },
  {
   "attachments": {},
   "cell_type": "markdown",
   "metadata": {},
   "source": [
    "## [Badges and Breadcrumbs]()"
   ]
  },
  {
   "cell_type": "markdown",
   "metadata": {},
   "source": []
  }
 ],
 "metadata": {
  "language_info": {
   "name": "python"
  },
  "orig_nbformat": 4
 },
 "nbformat": 4,
 "nbformat_minor": 2
}
