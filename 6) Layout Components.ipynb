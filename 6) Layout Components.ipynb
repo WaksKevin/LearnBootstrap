{
 "cells": [
  {
   "attachments": {},
   "cell_type": "markdown",
   "metadata": {},
   "source": [
    "# <center>Layout Components</center>"
   ]
  },
  {
   "attachments": {},
   "cell_type": "markdown",
   "metadata": {},
   "source": [
    "## [Buttons](https://go.raybo.org/4AJB)"
   ]
  },
  {
   "attachments": {},
   "cell_type": "markdown",
   "metadata": {},
   "source": [
    "There are rich classes for handling the look and feel of buttons."
   ]
  },
  {
   "attachments": {},
   "cell_type": "markdown",
   "metadata": {},
   "source": [
    "1. Buttons\n",
    "2. Contextual Buttons\n",
    "3. Sizes\n",
    "4. Button Groups"
   ]
  },
  {
   "attachments": {},
   "cell_type": "markdown",
   "metadata": {},
   "source": [
    "#### **_1. Buttons_**"
   ]
  },
  {
   "attachments": {},
   "cell_type": "markdown",
   "metadata": {},
   "source": [
    "- `btn`: basic class\n",
    "- Apply to: `button`, `a` or `input`\n",
    "\n",
    "    - `role=\"button\"` on `a`\n",
    "    - `type=\"button\"` on `input` or `button`"
   ]
  },
  {
   "attachments": {},
   "cell_type": "markdown",
   "metadata": {},
   "source": [
    "The basic button class is the `btn` class. It can be applied to either buttons, anchor tags or input fields.\n",
    "\n",
    "If you're using `btn` on an anchor(`a`) tag, you should add the `role=\"button\"` property for assistive devices.\n",
    "\n",
    "If you're using `btn` on a `button` or `input`, you should add the `type=\"button\"` property."
   ]
  },
  {
   "attachments": {},
   "cell_type": "markdown",
   "metadata": {},
   "source": [
    "#### **_2. Contextual Buttons_**"
   ]
  },
  {
   "attachments": {},
   "cell_type": "markdown",
   "metadata": {},
   "source": [
    "- `btn{-outline}{-TYP}`\n",
    "\n",
    "    - **BR**: `primary secondary success danger warning info light dark link`"
   ]
  },
  {
   "attachments": {},
   "cell_type": "markdown",
   "metadata": {},
   "source": [
    "In addition to the `btn` class, you add one contextual color class to your buttons.\n",
    "\n",
    "There is a special `btn-link` class that makes the button look like a regular link, but **still takes up the space of a button**.\n",
    "\n",
    "There is also an outline version of the buttons you can use by adding the `outline` keyword"
   ]
  },
  {
   "attachments": {},
   "cell_type": "markdown",
   "metadata": {},
   "source": [
    "- [**Try it**](codepens/Button-Classes.html)"
   ]
  },
  {
   "attachments": {},
   "cell_type": "markdown",
   "metadata": {},
   "source": [
    "#### **_3. Sizes_**"
   ]
  },
  {
   "attachments": {},
   "cell_type": "markdown",
   "metadata": {},
   "source": [
    "- `btn-{SIZ}`\n",
    "\n",
    "    - **SIZ**: `sm lg`"
   ]
  },
  {
   "attachments": {},
   "cell_type": "markdown",
   "metadata": {},
   "source": [
    "There are three sizes for buttons. A small, a large size and then the regular size of the buttons."
   ]
  },
  {
   "attachments": {},
   "cell_type": "markdown",
   "metadata": {},
   "source": [
    "- [**Try it**](codepens/Button-Sizes.html)"
   ]
  },
  {
   "attachments": {},
   "cell_type": "markdown",
   "metadata": {},
   "source": [
    "#### **_4. Button Groups_**"
   ]
  },
  {
   "attachments": {},
   "cell_type": "markdown",
   "metadata": {},
   "source": [
    "- **Button Group**: `btn-group btn-group-vertical`\n",
    "\n",
    "- **Variation**: `btn-group-sm btn-group-lg`\n",
    "\n",
    "- **Checkboxes/Radio**: `btn-check`"
   ]
  },
  {
   "attachments": {},
   "cell_type": "markdown",
   "metadata": {},
   "source": [
    "Button groups give you a way to put buttons together. The basic class is a container that goes around the buttons you want to group. You can either choose a regular or a vertical version of this class.\n",
    "\n",
    "There is a different style if you add the `active` class that works really well for outlines.\n",
    "\n",
    "There are some different variations you can use like the two sizing classes. These go on the same container that have the `btn-group` class.\n",
    "\n",
    "There is also a class for making the buttons stack on top of one another called `btn-group-vertical`\n",
    "\n",
    "There's another real interesting class called `btn-check` that will really help to make checkboxes or radio input fields look like buttons, but behave in their normal manner as long as they're coded properly."
   ]
  },
  {
   "attachments": {},
   "cell_type": "markdown",
   "metadata": {},
   "source": [
    "- [**Try it**](codepens/Button-Groups.html)"
   ]
  },
  {
   "attachments": {},
   "cell_type": "markdown",
   "metadata": {},
   "source": [
    "## [Nav](https://go.raybo.org/4AJD)"
   ]
  },
  {
   "attachments": {},
   "cell_type": "markdown",
   "metadata": {},
   "source": [
    "There is a set of nav classes for building different types of navigation. It's meant for simpler navigation that's not navivation bar."
   ]
  },
  {
   "attachments": {},
   "cell_type": "markdown",
   "metadata": {},
   "source": [
    "1. Basic\n",
    "2. Nav\n",
    "3. Nav Styles\n",
    "4. Nav Alignment"
   ]
  },
  {
   "attachments": {},
   "cell_type": "markdown",
   "metadata": {},
   "source": [
    "#### **_1. Basic_**"
   ]
  },
  {
   "attachments": {},
   "cell_type": "markdown",
   "metadata": {},
   "source": [
    "- Lists, no lists, or `nav` tag\n",
    "- Special assistive tags\n",
    "- Align with flexbox"
   ]
  },
  {
   "attachments": {},
   "cell_type": "markdown",
   "metadata": {},
   "source": [
    "The basic nav class doesn't have special styling for the active states like some of the classes we'll see later. You can use them with ordered or unordered lists or regular divs and anchors. My favorite way is to use the nav tag with the nav class.\n",
    "\n",
    "You need to include assistive technology tags to convey their functionality.\n",
    "\n",
    "These are aligned using flexbox classes"
   ]
  },
  {
   "attachments": {},
   "cell_type": "markdown",
   "metadata": {},
   "source": [
    "#### **_2. Nav_**"
   ]
  },
  {
   "attachments": {},
   "cell_type": "markdown",
   "metadata": {},
   "source": [
    "- `nav nav-item nav-link`"
   ]
  },
  {
   "attachments": {},
   "cell_type": "markdown",
   "metadata": {},
   "source": [
    "`nav` - This is the main container for the nav items.\n",
    "\n",
    "`nav-item` - Each item inside navigation should have a nav-item class. In the case of list based navs, this should be in the `li` tag. You can omit this class if you're using the `nav` tag.\n",
    "\n",
    "`nav-link` - This should be attached to the anchor tag link."
   ]
  },
  {
   "attachments": {},
   "cell_type": "markdown",
   "metadata": {},
   "source": [
    "- [**Try it**](codepens/Nav.html)"
   ]
  },
  {
   "attachments": {},
   "cell_type": "markdown",
   "metadata": {},
   "source": [
    "#### **_3. Nav_Styles_**"
   ]
  },
  {
   "attachments": {},
   "cell_type": "markdown",
   "metadata": {},
   "source": [
    "- `nav-tabs nav-pills`"
   ]
  },
  {
   "attachments": {},
   "cell_type": "markdown",
   "metadata": {},
   "source": [
    "`nav-tabs` - styles the links to look like tabs with the active class having a different look.\n",
    "\n",
    "`nav-pills` - makes the active items look more like a button\n",
    "\n",
    "You can use background and color classes to change the colors"
   ]
  },
  {
   "attachments": {},
   "cell_type": "markdown",
   "metadata": {},
   "source": [
    "- [**Try it**](codepens/Nav-Styles.html)"
   ]
  },
  {
   "attachments": {},
   "cell_type": "markdown",
   "metadata": {},
   "source": [
    "#### **_4. Nav Alignment_**"
   ]
  },
  {
   "attachments": {},
   "cell_type": "markdown",
   "metadata": {},
   "source": [
    "- `nav-fill nav-justified`\n",
    "\n",
    "- Or flexbox classes"
   ]
  },
  {
   "attachments": {},
   "cell_type": "markdown",
   "metadata": {},
   "source": [
    "`nav-fill` - Fills up the horizontal space of the container while giving the buttons the space they need to fit.\n",
    "\n",
    "`nav-justified` - Similar to nav-fill, but makes each button take up the same amount of space.\n",
    "\n",
    "You can also use flexbox classes to achieve any desired effects."
   ]
  },
  {
   "attachments": {},
   "cell_type": "markdown",
   "metadata": {},
   "source": [
    "- [**Try it**](codepens/Nav-Alignment.html)"
   ]
  },
  {
   "attachments": {},
   "cell_type": "markdown",
   "metadata": {},
   "source": [
    "## [Navbar](https://go.raybo.org/4AJG)"
   ]
  },
  {
   "attachments": {},
   "cell_type": "markdown",
   "metadata": {},
   "source": [
    "Navbars are for building the main navigation items. they're related to navs, but with a lot more options."
   ]
  },
  {
   "attachments": {},
   "cell_type": "markdown",
   "metadata": {},
   "source": [
    "1. Basic Navbar\n",
    "2. Inside Navbar\n",
    "3. Special Content\n",
    "4. Navbar Collapse"
   ]
  },
  {
   "attachments": {},
   "cell_type": "markdown",
   "metadata": {},
   "source": [
    "#### **_1. Basic Navbar_**"
   ]
  },
  {
   "attachments": {},
   "cell_type": "markdown",
   "metadata": {},
   "source": [
    "- `nav class=\"navbar\"`\n",
    "\n",
    "    - `bg-{COL}`\n",
    "        - **COL**: `primary secondary success danger warning info light dark white`\n",
    "    - `navbar-{COL}`\n",
    "        - **COL**: `light dark`\n",
    "    - `navbar-expand-{BR}`\n",
    "        - **BR**: `sm md lg xl xxl`"
   ]
  },
  {
   "attachments": {},
   "cell_type": "markdown",
   "metadata": {},
   "source": [
    "Navbars are pretty complicated. they begin with a nav tag that has the `navbar` class. Although you could use something other than a `nav`, it's really the proper tag for a navbar.\n",
    "\n",
    "Usually navbars get a couple of classes that identify the color of the background, which is a regular `bg-{COL}` item as well as a class that identifies whether the navigation's background is light or dark `navbar-{light|dark}`.\n",
    "\n",
    "Navbars are responsive by default, so they will stack on top of one another. You can add a `navbar-expand-{BR}` which will expand the links into a horizontal section at a specific breakpoint.\n",
    "\n",
    "You usually want a nav to cover the entire width of the browser or align to the grid...at least in certain parts, so there's usually a container involved.\n",
    "\n",
    "Finally, there is a `navbar-nav` section, which is where your links go."
   ]
  },
  {
   "attachments": {},
   "cell_type": "markdown",
   "metadata": {},
   "source": [
    "#### **_2. Inside Navbar_**"
   ]
  },
  {
   "attachments": {},
   "cell_type": "markdown",
   "metadata": {},
   "source": [
    "- `container{-BR}`\n",
    "\n",
    "    - **BR**: `sm md lg xl xxl fluid`\n",
    "<br><br>\n",
    "- `navbar-nav`\n",
    "\n",
    "    - `nav-item nav-link`"
   ]
  },
  {
   "attachments": {},
   "cell_type": "markdown",
   "metadata": {},
   "source": [
    "`navbar-nav` - section is a series of links, which can go on list items with anchor tags or just anchor tags.\n",
    "\n",
    "`nav-item` - identifies each navigation item, can go in a list item or an anchor tag\n",
    "\n",
    "`nav-link` - identifies the link in an anchor tag."
   ]
  },
  {
   "attachments": {},
   "cell_type": "markdown",
   "metadata": {},
   "source": [
    "- [**Try it**](codepens/Navbar.html)"
   ]
  },
  {
   "attachments": {},
   "cell_type": "markdown",
   "metadata": {},
   "source": [
    "#### **_3. Special Content_**"
   ]
  },
  {
   "attachments": {},
   "cell_type": "markdown",
   "metadata": {},
   "source": [
    "- `navbar-brand`\n",
    "\n",
    "- `nav-text`"
   ]
  },
  {
   "attachments": {},
   "cell_type": "markdown",
   "metadata": {},
   "source": [
    "`navbar-brand` - Allows you to place branding as a separate element on the form.\n",
    "\n",
    "`nav-text` - Lets you do some text aligned properly to the form.\n",
    "\n",
    "You can also include other elements, so for example a form element is a pretty common thing to add."
   ]
  },
  {
   "attachments": {},
   "cell_type": "markdown",
   "metadata": {},
   "source": [
    "- [**Try it**](codepens/Navbar-Items.html)"
   ]
  },
  {
   "attachments": {},
   "cell_type": "markdown",
   "metadata": {},
   "source": [
    "#### **_4. Navbar Collapse_**"
   ]
  },
  {
   "attachments": {},
   "cell_type": "markdown",
   "metadata": {},
   "source": [
    "- `navbar-toggler`\n",
    "\n",
    "    - `navbar-toggler-icon`<br><br>\n",
    "\n",
    "- `collapse navbar-collapse id`\n",
    "\n",
    "- `navbar-nav-scroll`"
   ]
  },
  {
   "attachments": {},
   "cell_type": "markdown",
   "metadata": {},
   "source": [
    "Navbars can get long quickly, so Bootstrap provides an option to collapse items into hamburger menu at before the navbar-expand{-BR} breakpoint.\n",
    "\n",
    "To do this, you'll need to add a button that triggers the menu\n",
    "\n",
    "`navbar-toggler` - is the button that activates the dropdown. It gets a `data-bs-toggle=\"collapse\"` and it needs a `data-bs-target` with the ID of the element that's going to be collapsed.\n",
    "\n",
    "`collapse navbar-collapse` - These two classes are wrappers around the content that you want collapsed. They usually wrap the navbar-nav.\n",
    "\n",
    "`navbar-toggler-icon` - The hamburger menu lives in the `navbar-toggler-icon` class\n",
    "\n",
    "`navbar-nav-scroll` - There is an optional class that lets you determine the height of the items, just in case your menu gets a bit long for a mobile device."
   ]
  },
  {
   "attachments": {},
   "cell_type": "markdown",
   "metadata": {},
   "source": [
    "- [**Try it**](codepens/Navbar-Collapse.html)"
   ]
  },
  {
   "attachments": {},
   "cell_type": "markdown",
   "metadata": {},
   "source": [
    "## [Cards](https://go.raybo.org/4AJC)"
   ]
  },
  {
   "attachments": {},
   "cell_type": "markdown",
   "metadata": {},
   "source": [
    "Cards are a special component that is incredibly flexible."
   ]
  },
  {
   "attachments": {},
   "cell_type": "markdown",
   "metadata": {},
   "source": [
    "1. Basic\n",
    "2. Card Images\n",
    "3. Card Layouts"
   ]
  },
  {
   "attachments": {},
   "cell_type": "markdown",
   "metadata": {},
   "source": [
    "#### **_1. Basic_**"
   ]
  },
  {
   "attachments": {},
   "cell_type": "markdown",
   "metadata": {},
   "source": [
    "- `card`\n",
    "\n",
    "    - `card-header card-footer card-body card-img`<br><br>\n",
    "\n",
    "- `card-body`\n",
    "\n",
    "    - `card-title card-subtitle card-text card-link`"
   ]
  },
  {
   "attachments": {},
   "cell_type": "markdown",
   "metadata": {},
   "source": [
    "There's a main card container class and then there are a number of structural cards that help elements fit properly inside the card. Cards don't have a set size, so unless you size them manually or with other classes, they'll take up the entire width of the container.\n",
    "\n",
    "The main set of classes are header, footer, body and image. There are actually multiple types of image classes so we'll get back to that one.\n",
    "\n",
    "Inside the body class, you can include a number of classes that will help elements have the proper spacing inside the body container."
   ]
  },
  {
   "attachments": {},
   "cell_type": "markdown",
   "metadata": {},
   "source": [
    "- [**Try it**](codepens/Cards.html)"
   ]
  },
  {
   "attachments": {},
   "cell_type": "markdown",
   "metadata": {},
   "source": [
    "#### **_2. Card Images_**"
   ]
  },
  {
   "attachments": {},
   "cell_type": "markdown",
   "metadata": {},
   "source": [
    "- `card-img{-TYP}`\n",
    "\n",
    "    - **TYP**: `top bottom overlay`"
   ]
  },
  {
   "attachments": {},
   "cell_type": "markdown",
   "metadata": {},
   "source": [
    "There are a few classes that can help with image placement. Images are drawn as being part of the borders.\n",
    "\n",
    "`card-img-overlay` - The overlay class is special in that it allows you to place the content inside the container.\n",
    "\n",
    "`card-img` - In the case of the overlay class, you use a regular card-img class instead of the top or bottom classes."
   ]
  },
  {
   "attachments": {},
   "cell_type": "markdown",
   "metadata": {},
   "source": [
    "- [**Try it**](codepens/Card-Images.html)"
   ]
  },
  {
   "attachments": {},
   "cell_type": "markdown",
   "metadata": {},
   "source": [
    "#### **_3. Card Layouts_**"
   ]
  },
  {
   "attachments": {},
   "cell_type": "markdown",
   "metadata": {},
   "source": [
    "- `card-group`"
   ]
  },
  {
   "attachments": {},
   "cell_type": "markdown",
   "metadata": {},
   "source": [
    "Shockingly enough, there's only one special layout class for cards and that's the card group. It makes cards share a border horizontally.\n",
    "\n",
    "To create different types of layouts you simply use any of the existing layout classes like the grid or flexbox.\n",
    "\n",
    "And that's also true for the types of things you can add to or include in cards."
   ]
  },
  {
   "attachments": {},
   "cell_type": "markdown",
   "metadata": {},
   "source": [
    "- [**Try it**](codepens/Card-Layout.html)"
   ]
  },
  {
   "attachments": {},
   "cell_type": "markdown",
   "metadata": {},
   "source": [
    "## [Pagination](https://go.raybo.org/4AJH)"
   ]
  },
  {
   "attachments": {},
   "cell_type": "markdown",
   "metadata": {},
   "source": [
    "There are some classes that can help you build pagination indicators. Although you're responsible for the scripts that would control these, it's nice to have some good looking navigation."
   ]
  },
  {
   "attachments": {},
   "cell_type": "markdown",
   "metadata": {},
   "source": [
    "1. Pagination Classes"
   ]
  },
  {
   "attachments": {},
   "cell_type": "markdown",
   "metadata": {},
   "source": [
    "#### **_1. Pagination Classes_**"
   ]
  },
  {
   "attachments": {},
   "cell_type": "markdown",
   "metadata": {},
   "source": [
    "- `pagination`\n",
    "\n",
    "- Sizing\n",
    "\t- `pagination-{SIZ}`\n",
    "\t\t- **SIZ**: `sm lg`<br><br>\n",
    "\n",
    "- Items and Links\n",
    "\t- `page-{TYP}`\n",
    "\t\t- **TYP**: `item link`"
   ]
  },
  {
   "attachments": {},
   "cell_type": "markdown",
   "metadata": {},
   "source": [
    "The whole pagination should be placed in a `nav` container with a proper `aria` tag. Inside that you can place a list.\n",
    "\n",
    "In addition there are two size modifiers, `pagination-sm` and `pagination-lg`\n",
    "\n",
    "Although I like to keep things simple, this is one place where I think doing a list of items instead of trying to just do anchor tags help. That's because in JavaScript you'd be turning some of these classes on and off. If you were to try to do just anchor tags, you'd have to physically change things from anchor to spans, so the class approach works better.\n",
    "\n",
    "The `ul` or `ol` tags will carry the `pagination` class.\n",
    "Then the `li` tag will have the `page-item` class. If an item needs to be disabled, you can add the disabled class here.\n",
    "\n",
    "The links will carry the `page-link` class.\n",
    "If one of these items are disabled, make sure that you add the `tabindex=\"-1\"` property and `aria-disabled=\"true\"` for assistive devices.\n",
    "\n",
    "If one of these links have the `active` class, make sure you add the `aria-current=\"page\"` property to identify the active class.\n",
    "\n",
    "Without using sass, it's a bit difficult to color these elements, you can try using some of the contextual background and text classes, but other than that, there's a lot of states to have to worry about that you might have to customize with CSS."
   ]
  },
  {
   "attachments": {},
   "cell_type": "markdown",
   "metadata": {},
   "source": [
    "- [**Try it**](https://codepen.io/planetoftheweb/pen/bGgxpyR?editors=1000)"
   ]
  },
  {
   "attachments": {},
   "cell_type": "markdown",
   "metadata": {},
   "source": [
    "## [Progress](https://go.raybo.org/4AJI)"
   ]
  },
  {
   "attachments": {},
   "cell_type": "markdown",
   "metadata": {},
   "source": [
    "Progress bars are useful in application to signal the state of completion of an element. Although you have to manage the JavaScript yourself, the styles are provided to display the progress nicely."
   ]
  },
  {
   "attachments": {},
   "cell_type": "markdown",
   "metadata": {},
   "source": [
    "1. Progress Bar Classes"
   ]
  },
  {
   "attachments": {},
   "cell_type": "markdown",
   "metadata": {},
   "source": [
    "#### **_1. Progress Bar Classes_**"
   ]
  },
  {
   "attachments": {},
   "cell_type": "markdown",
   "metadata": {},
   "source": [
    "- `progress`\n",
    "\n",
    "- `progress-bar{-TYP}`\n",
    "\n",
    "    - **TYP**: `striped animated`"
   ]
  },
  {
   "attachments": {},
   "cell_type": "markdown",
   "metadata": {},
   "source": [
    "The `progress` class the a container class with another item inside that has the progress-bar class.\n",
    "\n",
    "You should include assistive classes with the following values:\n",
    "\n",
    "`aria-valuenow` - The current value.\n",
    "`aria-valuemin` - The minimum value\n",
    "`aria-valuemax` - The maximum value\n",
    "\n",
    "Any text you include inside the `progress-bar` element will be its label. You can also color these with the background color classes and change the color of the text with the text classes as well.\n",
    "\n",
    "Weirdly enough, you can include more than one progress-bar inside a progress container and they will just appear side by side.\n",
    "\n",
    "There is one alternate style you can use called progress-bar-striped, which draws diagonal stripes and there is an alternate version of that which animates the stripes as well."
   ]
  },
  {
   "attachments": {},
   "cell_type": "markdown",
   "metadata": {},
   "source": [
    "- [**Try it**](https://codepen.io/planetoftheweb/pen/bGgxwbQ?editors=1000)"
   ]
  },
  {
   "attachments": {},
   "cell_type": "markdown",
   "metadata": {},
   "source": [
    "## [Spinner](https://go.raybo.org/4AJJ)"
   ]
  },
  {
   "attachments": {},
   "cell_type": "markdown",
   "metadata": {},
   "source": [
    "If you're loading items, there's another class you can use besides progress bars. The spinners are similar, but with fewer options and some odd choices."
   ]
  },
  {
   "attachments": {},
   "cell_type": "markdown",
   "metadata": {},
   "source": [
    "1. Spinner Classes"
   ]
  },
  {
   "attachments": {},
   "cell_type": "markdown",
   "metadata": {},
   "source": [
    "#### **_1. Spinner Classes_**"
   ]
  },
  {
   "attachments": {},
   "cell_type": "markdown",
   "metadata": {},
   "source": [
    "- `spinner-border spinner-grow`"
   ]
  },
  {
   "attachments": {},
   "cell_type": "markdown",
   "metadata": {},
   "source": [
    "Spinners like progress bars have a container class of `spinner-border`. However, to color these spinners you use the {`text-COL`} classes instead of the border classes. It's just the way the different classes are designed, but then that's probably an unfortunate name for the spinner.\n",
    "\n",
    "You can add a `role=\"status\"` class as well for assistive devices and inside the spinner, you should include some text with a visually-hidden class. That way, assistive devices will be able to read the text, but a regular browser won't display it."
   ]
  },
  {
   "attachments": {},
   "cell_type": "markdown",
   "metadata": {},
   "source": [
    "- [**Try it**](https://codepen.io/planetoftheweb/pen/KKaxgRd?editors=1000)"
   ]
  },
  {
   "attachments": {},
   "cell_type": "markdown",
   "metadata": {},
   "source": [
    "## [Badges and Breadcrumbs](https://go.raybo.org/4AJK)"
   ]
  },
  {
   "attachments": {},
   "cell_type": "markdown",
   "metadata": {},
   "source": [
    "1. Badge\n",
    "2. Breadcrumb"
   ]
  },
  {
   "attachments": {},
   "cell_type": "markdown",
   "metadata": {},
   "source": [
    "#### **_1. Badge_**"
   ]
  },
  {
   "attachments": {},
   "cell_type": "markdown",
   "metadata": {},
   "source": [
    "- `badge`\n",
    "\n",
    "    - `rounded pill`"
   ]
  },
  {
   "attachments": {},
   "cell_type": "markdown",
   "metadata": {},
   "source": [
    "Badges is a small labeling component with really only two classes that you need to know.\n",
    "\n",
    "The main class is badge to create it, but there are other classes that will support it like the background and text color classes. badge text is white by default and will adjust to the size of the container text."
   ]
  },
  {
   "attachments": {},
   "cell_type": "markdown",
   "metadata": {},
   "source": [
    "#### **_2. Breadcrumb_**"
   ]
  },
  {
   "attachments": {},
   "cell_type": "markdown",
   "metadata": {},
   "source": [
    "- `breadcrumb breadcrumb-item`\n",
    "- `--bs-breadcrumb-divider`"
   ]
  },
  {
   "attachments": {},
   "cell_type": "markdown",
   "metadata": {},
   "source": [
    "The breadcrumb is a small container component that lets you display the structure or status of the current navigation.\n",
    "\n",
    "It works well in a `nav` tag with a list that has the `breadcrumb-item` class in each individual list item.\n",
    "\n",
    "The default"
   ]
  },
  {
   "attachments": {},
   "cell_type": "markdown",
   "metadata": {},
   "source": [
    "- [**Try it**](https://codepen.io/planetoftheweb/pen/PoWdqgb?editors=1000)"
   ]
  }
 ],
 "metadata": {
  "language_info": {
   "name": "python"
  },
  "orig_nbformat": 4
 },
 "nbformat": 4,
 "nbformat_minor": 2
}
